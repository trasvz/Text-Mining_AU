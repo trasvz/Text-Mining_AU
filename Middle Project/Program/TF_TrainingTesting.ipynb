{
 "cells": [
  {
   "cell_type": "markdown",
   "metadata": {},
   "source": [
    "# Text Classification TF Training Testing"
   ]
  },
  {
   "cell_type": "markdown",
   "metadata": {},
   "source": [
    "# Import Dataset"
   ]
  },
  {
   "cell_type": "code",
   "execution_count": 1,
   "metadata": {},
   "outputs": [
    {
     "data": {
      "text/html": [
       "<div>\n",
       "<style scoped>\n",
       "    .dataframe tbody tr th:only-of-type {\n",
       "        vertical-align: middle;\n",
       "    }\n",
       "\n",
       "    .dataframe tbody tr th {\n",
       "        vertical-align: top;\n",
       "    }\n",
       "\n",
       "    .dataframe thead th {\n",
       "        text-align: right;\n",
       "    }\n",
       "</style>\n",
       "<table border=\"1\" class=\"dataframe\">\n",
       "  <thead>\n",
       "    <tr style=\"text-align: right;\">\n",
       "      <th></th>\n",
       "      <th>Article</th>\n",
       "      <th>Clean Article</th>\n",
       "      <th>ClassID</th>\n",
       "      <th>Class</th>\n",
       "    </tr>\n",
       "  </thead>\n",
       "  <tbody>\n",
       "    <tr>\n",
       "      <th>0</th>\n",
       "      <td>Optimal adjuvant therapy in clinically N2 non-...</td>\n",
       "      <td>optimal adjuvant therapy clinically n non smal...</td>\n",
       "      <td>1</td>\n",
       "      <td>lung</td>\n",
       "    </tr>\n",
       "    <tr>\n",
       "      <th>1</th>\n",
       "      <td>Assessment of interpatient heterogeneity in tu...</td>\n",
       "      <td>assessment interpatient heterogeneity tumor ra...</td>\n",
       "      <td>1</td>\n",
       "      <td>lung</td>\n",
       "    </tr>\n",
       "    <tr>\n",
       "      <th>2</th>\n",
       "      <td>[Current problems in the combined therapy of l...</td>\n",
       "      <td>current problem combine therapy lung cancer pa...</td>\n",
       "      <td>1</td>\n",
       "      <td>lung</td>\n",
       "    </tr>\n",
       "    <tr>\n",
       "      <th>3</th>\n",
       "      <td>Effect of therapeutic irradiation on lymphocyt...</td>\n",
       "      <td>effect therapeutic irradiation lymphocyte tran...</td>\n",
       "      <td>1</td>\n",
       "      <td>lung</td>\n",
       "    </tr>\n",
       "    <tr>\n",
       "      <th>4</th>\n",
       "      <td>Use of intensive care in patients with nonrese...</td>\n",
       "      <td>use intensive care patient nonresectable lung ...</td>\n",
       "      <td>1</td>\n",
       "      <td>lung</td>\n",
       "    </tr>\n",
       "    <tr>\n",
       "      <th>5</th>\n",
       "      <td>Establishment of a drug sensitivity panel usin...</td>\n",
       "      <td>establishment drug sensitivity panel use human...</td>\n",
       "      <td>1</td>\n",
       "      <td>lung</td>\n",
       "    </tr>\n",
       "    <tr>\n",
       "      <th>6</th>\n",
       "      <td>Effect of gefitinib re-challenge to initial ge...</td>\n",
       "      <td>effect gefitinib challenge initial gefitinib r...</td>\n",
       "      <td>1</td>\n",
       "      <td>lung</td>\n",
       "    </tr>\n",
       "    <tr>\n",
       "      <th>7</th>\n",
       "      <td>[Exposed workers to lung cancer risk. An estim...</td>\n",
       "      <td>expose worker lung cancer risk estimation use ...</td>\n",
       "      <td>1</td>\n",
       "      <td>lung</td>\n",
       "    </tr>\n",
       "    <tr>\n",
       "      <th>8</th>\n",
       "      <td>Cytology nomenclature and 2015 World Health Or...</td>\n",
       "      <td>cytology nomenclature world health organizatio...</td>\n",
       "      <td>1</td>\n",
       "      <td>lung</td>\n",
       "    </tr>\n",
       "    <tr>\n",
       "      <th>9</th>\n",
       "      <td>[Repeated surgery for lung cancer] -</td>\n",
       "      <td>repeat surgery lung cancer</td>\n",
       "      <td>1</td>\n",
       "      <td>lung</td>\n",
       "    </tr>\n",
       "  </tbody>\n",
       "</table>\n",
       "</div>"
      ],
      "text/plain": [
       "                                             Article  \\\n",
       "0  Optimal adjuvant therapy in clinically N2 non-...   \n",
       "1  Assessment of interpatient heterogeneity in tu...   \n",
       "2  [Current problems in the combined therapy of l...   \n",
       "3  Effect of therapeutic irradiation on lymphocyt...   \n",
       "4  Use of intensive care in patients with nonrese...   \n",
       "5  Establishment of a drug sensitivity panel usin...   \n",
       "6  Effect of gefitinib re-challenge to initial ge...   \n",
       "7  [Exposed workers to lung cancer risk. An estim...   \n",
       "8  Cytology nomenclature and 2015 World Health Or...   \n",
       "9               [Repeated surgery for lung cancer] -   \n",
       "\n",
       "                                       Clean Article  ClassID Class  \n",
       "0  optimal adjuvant therapy clinically n non smal...        1  lung  \n",
       "1  assessment interpatient heterogeneity tumor ra...        1  lung  \n",
       "2  current problem combine therapy lung cancer pa...        1  lung  \n",
       "3  effect therapeutic irradiation lymphocyte tran...        1  lung  \n",
       "4  use intensive care patient nonresectable lung ...        1  lung  \n",
       "5  establishment drug sensitivity panel use human...        1  lung  \n",
       "6  effect gefitinib challenge initial gefitinib r...        1  lung  \n",
       "7  expose worker lung cancer risk estimation use ...        1  lung  \n",
       "8  cytology nomenclature world health organizatio...        1  lung  \n",
       "9                         repeat surgery lung cancer        1  lung  "
      ]
     },
     "execution_count": 1,
     "metadata": {},
     "output_type": "execute_result"
    }
   ],
   "source": [
    "import numpy as np\n",
    "import pandas as pd\n",
    "data_df = pd.read_csv('../Output/Top10_Cancer_1.csv', encoding='utf-8')\n",
    "data_df = data_df[['Article', 'Clean Article', 'ClassID', 'Class']]\n",
    "data_df.head(10)"
   ]
  },
  {
   "cell_type": "code",
   "execution_count": 2,
   "metadata": {},
   "outputs": [
    {
     "data": {
      "text/plain": [
       "((6700,), (3300,))"
      ]
     },
     "execution_count": 2,
     "metadata": {},
     "output_type": "execute_result"
    }
   ],
   "source": [
    "from sklearn.model_selection import train_test_split\n",
    "\n",
    "train_corpus, test_corpus, train_label_nums, test_label_nums, train_label_names, test_label_names =\\\n",
    "                                 train_test_split(np.array(data_df['Clean Article']), np.array(data_df['ClassID']),\n",
    "                                                       np.array(data_df['Class']), test_size=0.33, random_state=42)\n",
    "\n",
    "train_corpus.shape, test_corpus.shape"
   ]
  },
  {
   "cell_type": "code",
   "execution_count": 3,
   "metadata": {},
   "outputs": [
    {
     "data": {
      "text/html": [
       "<div>\n",
       "<style scoped>\n",
       "    .dataframe tbody tr th:only-of-type {\n",
       "        vertical-align: middle;\n",
       "    }\n",
       "\n",
       "    .dataframe tbody tr th {\n",
       "        vertical-align: top;\n",
       "    }\n",
       "\n",
       "    .dataframe thead th {\n",
       "        text-align: right;\n",
       "    }\n",
       "</style>\n",
       "<table border=\"1\" class=\"dataframe\">\n",
       "  <thead>\n",
       "    <tr style=\"text-align: right;\">\n",
       "      <th></th>\n",
       "      <th>Target Label</th>\n",
       "      <th>Train Count</th>\n",
       "      <th>Test Count</th>\n",
       "    </tr>\n",
       "  </thead>\n",
       "  <tbody>\n",
       "    <tr>\n",
       "      <th>2</th>\n",
       "      <td>bladder</td>\n",
       "      <td>693</td>\n",
       "      <td>307</td>\n",
       "    </tr>\n",
       "    <tr>\n",
       "      <th>5</th>\n",
       "      <td>colorectal</td>\n",
       "      <td>685</td>\n",
       "      <td>315</td>\n",
       "    </tr>\n",
       "    <tr>\n",
       "      <th>4</th>\n",
       "      <td>oesophagus</td>\n",
       "      <td>681</td>\n",
       "      <td>319</td>\n",
       "    </tr>\n",
       "    <tr>\n",
       "      <th>8</th>\n",
       "      <td>cervix_uteri</td>\n",
       "      <td>680</td>\n",
       "      <td>320</td>\n",
       "    </tr>\n",
       "    <tr>\n",
       "      <th>1</th>\n",
       "      <td>liver</td>\n",
       "      <td>677</td>\n",
       "      <td>323</td>\n",
       "    </tr>\n",
       "    <tr>\n",
       "      <th>3</th>\n",
       "      <td>prostate</td>\n",
       "      <td>668</td>\n",
       "      <td>332</td>\n",
       "    </tr>\n",
       "    <tr>\n",
       "      <th>9</th>\n",
       "      <td>breast</td>\n",
       "      <td>665</td>\n",
       "      <td>335</td>\n",
       "    </tr>\n",
       "    <tr>\n",
       "      <th>7</th>\n",
       "      <td>lung</td>\n",
       "      <td>655</td>\n",
       "      <td>345</td>\n",
       "    </tr>\n",
       "    <tr>\n",
       "      <th>6</th>\n",
       "      <td>stomach</td>\n",
       "      <td>649</td>\n",
       "      <td>351</td>\n",
       "    </tr>\n",
       "    <tr>\n",
       "      <th>0</th>\n",
       "      <td>thyroid</td>\n",
       "      <td>647</td>\n",
       "      <td>353</td>\n",
       "    </tr>\n",
       "  </tbody>\n",
       "</table>\n",
       "</div>"
      ],
      "text/plain": [
       "   Target Label  Train Count  Test Count\n",
       "2       bladder          693         307\n",
       "5    colorectal          685         315\n",
       "4    oesophagus          681         319\n",
       "8  cervix_uteri          680         320\n",
       "1         liver          677         323\n",
       "3      prostate          668         332\n",
       "9        breast          665         335\n",
       "7          lung          655         345\n",
       "6       stomach          649         351\n",
       "0       thyroid          647         353"
      ]
     },
     "execution_count": 3,
     "metadata": {},
     "output_type": "execute_result"
    }
   ],
   "source": [
    "from collections import Counter\n",
    "\n",
    "trd = dict(Counter(train_label_names))\n",
    "tsd = dict(Counter(test_label_names))\n",
    "\n",
    "(pd.DataFrame([[key, trd[key], tsd[key]] for key in trd], \n",
    "             columns=['Target Label', 'Train Count', 'Test Count'])\n",
    ".sort_values(by=['Train Count', 'Test Count'],\n",
    "             ascending=False))"
   ]
  },
  {
   "cell_type": "code",
   "execution_count": 4,
   "metadata": {},
   "outputs": [],
   "source": [
    "from sklearn.feature_extraction.text import CountVectorizer\n",
    "from sklearn.model_selection import cross_val_score\n",
    "\n",
    "# build BOW features on train articles\n",
    "cv = CountVectorizer(binary=False, min_df=0.0, max_df=1.0)\n",
    "cv_train_features = cv.fit_transform(train_corpus)"
   ]
  },
  {
   "cell_type": "code",
   "execution_count": 5,
   "metadata": {},
   "outputs": [
    {
     "name": "stdout",
     "output_type": "stream",
     "text": [
      "(6700, 49221)\n"
     ]
    }
   ],
   "source": [
    "print(cv_train_features.shape)"
   ]
  },
  {
   "cell_type": "code",
   "execution_count": 6,
   "metadata": {
    "scrolled": true
   },
   "outputs": [
    {
     "name": "stdout",
     "output_type": "stream",
     "text": [
      "  (0, 35477)\t2\n",
      "  (0, 12096)\t3\n",
      "  (0, 28500)\t1\n",
      "  (0, 26425)\t3\n",
      "  (0, 20014)\t2\n",
      "  (0, 43680)\t5\n",
      "  (0, 7412)\t5\n",
      "  (0, 42722)\t1\n",
      "  (0, 40777)\t1\n",
      "  (0, 38943)\t1\n",
      "  (0, 45155)\t2\n",
      "  (0, 31641)\t1\n",
      "  (0, 13456)\t1\n",
      "  (0, 14153)\t1\n",
      "  (0, 9074)\t1\n",
      "  (0, 26485)\t1\n",
      "  (0, 8518)\t1\n",
      "  (0, 8334)\t1\n",
      "  (0, 33896)\t1\n",
      "  (0, 25934)\t1\n",
      "  (0, 20019)\t1\n",
      "  (0, 5623)\t1\n",
      "  (0, 23154)\t1\n",
      "  (0, 40945)\t1\n",
      "  (0, 32253)\t1\n",
      "  :\t:\n",
      "  (6697, 32555)\t1\n",
      "  (6697, 34119)\t1\n",
      "  (6697, 26542)\t1\n",
      "  (6697, 4364)\t1\n",
      "  (6697, 29763)\t1\n",
      "  (6697, 19295)\t1\n",
      "  (6697, 21421)\t1\n",
      "  (6697, 13945)\t1\n",
      "  (6697, 13438)\t1\n",
      "  (6697, 11262)\t1\n",
      "  (6697, 42391)\t1\n",
      "  (6697, 5787)\t1\n",
      "  (6697, 43327)\t1\n",
      "  (6698, 7412)\t1\n",
      "  (6698, 24882)\t1\n",
      "  (6698, 24489)\t1\n",
      "  (6698, 39299)\t1\n",
      "  (6698, 22197)\t1\n",
      "  (6699, 33738)\t1\n",
      "  (6699, 24813)\t1\n",
      "  (6699, 8462)\t1\n",
      "  (6699, 46465)\t1\n",
      "  (6699, 5130)\t1\n",
      "  (6699, 25503)\t1\n",
      "  (6699, 44759)\t1\n"
     ]
    }
   ],
   "source": [
    "print(cv_train_features)"
   ]
  },
  {
   "cell_type": "code",
   "execution_count": 7,
   "metadata": {
    "scrolled": true
   },
   "outputs": [
    {
     "name": "stdout",
     "output_type": "stream",
     "text": [
      "(3300, 49221)\n",
      "  (0, 35477)\t2\n",
      "  (0, 12096)\t3\n",
      "  (0, 28500)\t1\n",
      "  (0, 26425)\t3\n",
      "  (0, 20014)\t2\n",
      "  (0, 43680)\t5\n",
      "  (0, 7412)\t5\n",
      "  (0, 42722)\t1\n",
      "  (0, 40777)\t1\n",
      "  (0, 38943)\t1\n",
      "  (0, 45155)\t2\n",
      "  (0, 31641)\t1\n",
      "  (0, 13456)\t1\n",
      "  (0, 14153)\t1\n",
      "  (0, 9074)\t1\n",
      "  (0, 26485)\t1\n",
      "  (0, 8518)\t1\n",
      "  (0, 8334)\t1\n",
      "  (0, 33896)\t1\n",
      "  (0, 25934)\t1\n",
      "  (0, 20019)\t1\n",
      "  (0, 5623)\t1\n",
      "  (0, 23154)\t1\n",
      "  (0, 40945)\t1\n",
      "  (0, 32253)\t1\n",
      "  :\t:\n",
      "  (6697, 32555)\t1\n",
      "  (6697, 34119)\t1\n",
      "  (6697, 26542)\t1\n",
      "  (6697, 4364)\t1\n",
      "  (6697, 29763)\t1\n",
      "  (6697, 19295)\t1\n",
      "  (6697, 21421)\t1\n",
      "  (6697, 13945)\t1\n",
      "  (6697, 13438)\t1\n",
      "  (6697, 11262)\t1\n",
      "  (6697, 42391)\t1\n",
      "  (6697, 5787)\t1\n",
      "  (6697, 43327)\t1\n",
      "  (6698, 7412)\t1\n",
      "  (6698, 24882)\t1\n",
      "  (6698, 24489)\t1\n",
      "  (6698, 39299)\t1\n",
      "  (6698, 22197)\t1\n",
      "  (6699, 33738)\t1\n",
      "  (6699, 24813)\t1\n",
      "  (6699, 8462)\t1\n",
      "  (6699, 46465)\t1\n",
      "  (6699, 5130)\t1\n",
      "  (6699, 25503)\t1\n",
      "  (6699, 44759)\t1\n"
     ]
    }
   ],
   "source": [
    "# transform test articles into features\n",
    "cv_test_features = cv.transform(test_corpus)\n",
    "print(cv_test_features.shape)\n",
    "print(cv_train_features)"
   ]
  },
  {
   "cell_type": "code",
   "execution_count": 8,
   "metadata": {},
   "outputs": [
    {
     "name": "stdout",
     "output_type": "stream",
     "text": [
      "BOW model:> Train features shape: (6700, 49221)  Test features shape: (3300, 49221)\n"
     ]
    }
   ],
   "source": [
    "print('BOW model:> Train features shape:', cv_train_features.shape, ' Test features shape:', cv_test_features.shape)"
   ]
  },
  {
   "cell_type": "code",
   "execution_count": 19,
   "metadata": {},
   "outputs": [
    {
     "data": {
      "text/plain": [
       "{0: 'lung',\n",
       " 1: 'breast',\n",
       " 2: 'colorectal',\n",
       " 3: 'prostate',\n",
       " 4: 'stomach',\n",
       " 5: 'liver',\n",
       " 6: 'oesophagus',\n",
       " 7: 'cervix_uteri',\n",
       " 8: 'thyroid',\n",
       " 9: 'bladder'}"
      ]
     },
     "execution_count": 19,
     "metadata": {},
     "output_type": "execute_result"
    }
   ],
   "source": [
    "data_labels_map = dict(enumerate(pd.unique(data_df['Class'])))\n",
    "data_labels_map"
   ]
  },
  {
   "cell_type": "code",
   "execution_count": 20,
   "metadata": {},
   "outputs": [
    {
     "data": {
      "text/html": [
       "<div>\n",
       "<style scoped>\n",
       "    .dataframe tbody tr th:only-of-type {\n",
       "        vertical-align: middle;\n",
       "    }\n",
       "\n",
       "    .dataframe tbody tr th {\n",
       "        vertical-align: top;\n",
       "    }\n",
       "\n",
       "    .dataframe thead th {\n",
       "        text-align: right;\n",
       "    }\n",
       "</style>\n",
       "<table border=\"1\" class=\"dataframe\">\n",
       "  <thead>\n",
       "    <tr style=\"text-align: right;\">\n",
       "      <th></th>\n",
       "      <th>Label Name</th>\n",
       "      <th>Label Number</th>\n",
       "    </tr>\n",
       "  </thead>\n",
       "  <tbody>\n",
       "    <tr>\n",
       "      <th>0</th>\n",
       "      <td>lung</td>\n",
       "      <td>0</td>\n",
       "    </tr>\n",
       "    <tr>\n",
       "      <th>1</th>\n",
       "      <td>breast</td>\n",
       "      <td>1</td>\n",
       "    </tr>\n",
       "    <tr>\n",
       "      <th>2</th>\n",
       "      <td>colorectal</td>\n",
       "      <td>2</td>\n",
       "    </tr>\n",
       "    <tr>\n",
       "      <th>3</th>\n",
       "      <td>prostate</td>\n",
       "      <td>3</td>\n",
       "    </tr>\n",
       "    <tr>\n",
       "      <th>4</th>\n",
       "      <td>stomach</td>\n",
       "      <td>4</td>\n",
       "    </tr>\n",
       "    <tr>\n",
       "      <th>5</th>\n",
       "      <td>liver</td>\n",
       "      <td>5</td>\n",
       "    </tr>\n",
       "    <tr>\n",
       "      <th>6</th>\n",
       "      <td>oesophagus</td>\n",
       "      <td>6</td>\n",
       "    </tr>\n",
       "    <tr>\n",
       "      <th>7</th>\n",
       "      <td>cervix_uteri</td>\n",
       "      <td>7</td>\n",
       "    </tr>\n",
       "    <tr>\n",
       "      <th>8</th>\n",
       "      <td>thyroid</td>\n",
       "      <td>8</td>\n",
       "    </tr>\n",
       "    <tr>\n",
       "      <th>9</th>\n",
       "      <td>bladder</td>\n",
       "      <td>9</td>\n",
       "    </tr>\n",
       "  </tbody>\n",
       "</table>\n",
       "</div>"
      ],
      "text/plain": [
       "     Label Name  Label Number\n",
       "0          lung             0\n",
       "1        breast             1\n",
       "2    colorectal             2\n",
       "3      prostate             3\n",
       "4       stomach             4\n",
       "5         liver             5\n",
       "6    oesophagus             6\n",
       "7  cervix_uteri             7\n",
       "8       thyroid             8\n",
       "9       bladder             9"
      ]
     },
     "execution_count": 20,
     "metadata": {},
     "output_type": "execute_result"
    }
   ],
   "source": [
    "label_data_map = {v:k for k, v in data_labels_map.items()}\n",
    "label_map_df = pd.DataFrame(list(label_data_map.items()), columns=['Label Name', 'Label Number'])\n",
    "label_map_df"
   ]
  },
  {
   "cell_type": "markdown",
   "metadata": {},
   "source": [
    "# Naive Bayes"
   ]
  },
  {
   "cell_type": "code",
   "execution_count": 9,
   "metadata": {},
   "outputs": [
    {
     "name": "stdout",
     "output_type": "stream",
     "text": [
      "Train Score (5-fold): [0.91044776 0.91268657 0.90746269 0.9119403  0.91716418]\n",
      "Average Train Score : 0.9119402985074627\n",
      "Test Accuracy: 0.9072727272727272\n"
     ]
    }
   ],
   "source": [
    "from sklearn.naive_bayes import MultinomialNB\n",
    "\n",
    "mnb = MultinomialNB(alpha=1)\n",
    "mnb.fit(cv_train_features, train_label_names)\n",
    "\n",
    "mnb_bow_cv_scores = cross_val_score(mnb, cv_train_features, train_label_names, cv=5)\n",
    "\n",
    "mnb_bow_cv_mean_score = np.mean(mnb_bow_cv_scores)\n",
    "print('Train Score (5-fold):', mnb_bow_cv_scores)\n",
    "print('Average Train Score :', mnb_bow_cv_mean_score)\n",
    "mnb_bow_test_score = mnb.score(cv_test_features, test_label_names)\n",
    "print('Test Accuracy:', mnb_bow_test_score)"
   ]
  },
  {
   "cell_type": "code",
   "execution_count": 40,
   "metadata": {},
   "outputs": [
    {
     "name": "stdout",
     "output_type": "stream",
     "text": [
      "Training time:  0.04s\n"
     ]
    }
   ],
   "source": [
    "mnb = MultinomialNB(alpha=1)\n",
    "start = time.time()\n",
    "mnb.fit(cv_train_features, train_label_names)\n",
    "stop = time.time()\n",
    "timemnb = str(round(stop-start,3)) + 's'\n",
    "print('Training time: ', timemnb)"
   ]
  },
  {
   "cell_type": "code",
   "execution_count": 23,
   "metadata": {},
   "outputs": [
    {
     "name": "stdout",
     "output_type": "stream",
     "text": [
      "Accuracy: 0.9073\n",
      "Precision: 0.9142\n",
      "Recall: 0.9073\n",
      "F1 Score: 0.9072\n",
      "              precision    recall  f1-score   support\n",
      "\n",
      "     stomach       0.97      0.73      0.84       351\n",
      "     thyroid       0.96      0.98      0.97       353\n",
      "    prostate       0.92      0.96      0.94       332\n",
      "     bladder       0.87      0.96      0.91       307\n",
      "  oesophagus       0.84      0.91      0.87       319\n",
      "cervix_uteri       0.99      0.87      0.92       320\n",
      "  colorectal       0.80      0.92      0.86       315\n",
      "      breast       0.96      0.91      0.94       335\n",
      "       liver       0.82      0.93      0.87       323\n",
      "        lung       0.98      0.91      0.94       345\n",
      "\n",
      "    accuracy                           0.91      3300\n",
      "   macro avg       0.91      0.91      0.91      3300\n",
      "weighted avg       0.91      0.91      0.91      3300\n",
      "\n"
     ]
    }
   ],
   "source": [
    "import model_evaluation_utils as meu\n",
    "\n",
    "mnb_predictions = mnb.predict(cv_test_features)\n",
    "unique_classes = list(set(test_label_names))\n",
    "meu.get_metrics(true_labels=test_label_names, predicted_labels=mnb_predictions)\n",
    "meu.display_classification_report(true_labels=test_label_names, predicted_labels=mnb_predictions, classes=unique_classes)"
   ]
  },
  {
   "cell_type": "code",
   "execution_count": 29,
   "metadata": {},
   "outputs": [
    {
     "data": {
      "text/plain": [
       "<matplotlib.axes._subplots.AxesSubplot at 0x20a7084ed88>"
      ]
     },
     "execution_count": 29,
     "metadata": {},
     "output_type": "execute_result"
    },
    {
     "data": {
      "image/png": "[encoded data removed]",
      "text/plain": [
       "<Figure size 720x720 with 2 Axes>"
      ]
     },
     "metadata": {
      "needs_background": "light"
     },
     "output_type": "display_data"
    }
   ],
   "source": [
    "from sklearn.metrics import confusion_matrix\n",
    "import seaborn as sns\n",
    "import matplotlib.pyplot as plt\n",
    "\n",
    "cm1 = confusion_matrix(test_label_names, mnb_predictions, labels=label_map_df['Label Name'].values)\n",
    "plt.figure(figsize=(10,10))\n",
    "sns.heatmap(cm1, annot=True, fmt='d')"
   ]
  },
  {
   "cell_type": "markdown",
   "metadata": {},
   "source": [
    "# Logistic Regression"
   ]
  },
  {
   "cell_type": "code",
   "execution_count": 10,
   "metadata": {},
   "outputs": [
    {
     "name": "stdout",
     "output_type": "stream",
     "text": [
      "Train Score (5-fold): [0.97761194 0.97238806 0.96268657 0.97835821 0.97313433]\n",
      "Average Train Score : 0.9728358208955225\n",
      "Test Accuracy: 0.9748484848484849\n"
     ]
    }
   ],
   "source": [
    "from sklearn.linear_model import LogisticRegression\n",
    "\n",
    "lr = LogisticRegression(penalty='l2', max_iter=100, C=1, random_state=42)\n",
    "lr.fit(cv_train_features, train_label_names)\n",
    "lr_bow_cv_scores = cross_val_score(lr, cv_train_features, train_label_names, cv=5)\n",
    "lr_bow_cv_mean_score = np.mean(lr_bow_cv_scores)\n",
    "print('Train Score (5-fold):', lr_bow_cv_scores)\n",
    "print('Average Train Score :', lr_bow_cv_mean_score)\n",
    "lr_bow_test_score = lr.score(cv_test_features, test_label_names)\n",
    "print('Test Accuracy:', lr_bow_test_score)"
   ]
  },
  {
   "cell_type": "code",
   "execution_count": 42,
   "metadata": {},
   "outputs": [
    {
     "name": "stdout",
     "output_type": "stream",
     "text": [
      "Training time:  6.104s\n"
     ]
    }
   ],
   "source": [
    "import time\n",
    "\n",
    "lr = LogisticRegression(penalty='l2', max_iter=100, C=1, random_state=42)\n",
    "start = time.time()\n",
    "lr.fit(cv_train_features, train_label_names)\n",
    "stop = time.time()\n",
    "timelr = str(round(stop-start,3)) + 's'\n",
    "print('Training time: ', timelr)"
   ]
  },
  {
   "cell_type": "code",
   "execution_count": 24,
   "metadata": {},
   "outputs": [
    {
     "name": "stdout",
     "output_type": "stream",
     "text": [
      "Accuracy: 0.9748\n",
      "Precision: 0.9751\n",
      "Recall: 0.9748\n",
      "F1 Score: 0.9749\n",
      "              precision    recall  f1-score   support\n",
      "\n",
      "     stomach       0.98      0.95      0.96       351\n",
      "     thyroid       1.00      0.99      1.00       353\n",
      "    prostate       0.98      0.99      0.99       332\n",
      "     bladder       0.99      0.97      0.98       307\n",
      "  oesophagus       0.96      0.95      0.96       319\n",
      "cervix_uteri       0.93      0.98      0.95       320\n",
      "  colorectal       0.98      0.96      0.97       315\n",
      "      breast       0.98      1.00      0.99       335\n",
      "       liver       0.96      0.96      0.96       323\n",
      "        lung       0.99      0.99      0.99       345\n",
      "\n",
      "    accuracy                           0.97      3300\n",
      "   macro avg       0.97      0.97      0.97      3300\n",
      "weighted avg       0.98      0.97      0.97      3300\n",
      "\n"
     ]
    }
   ],
   "source": [
    "lr_predictions = lr.predict(cv_test_features)\n",
    "unique_classes = list(set(test_label_names))\n",
    "meu.get_metrics(true_labels=test_label_names, predicted_labels=lr_predictions)\n",
    "meu.display_classification_report(true_labels=test_label_names, predicted_labels=lr_predictions, classes=unique_classes)"
   ]
  },
  {
   "cell_type": "code",
   "execution_count": 30,
   "metadata": {},
   "outputs": [
    {
     "data": {
      "text/plain": [
       "<matplotlib.axes._subplots.AxesSubplot at 0x20a73176588>"
      ]
     },
     "execution_count": 30,
     "metadata": {},
     "output_type": "execute_result"
    },
    {
     "data": {
      "image/png": "[encoded data removed]",
      "text/plain": [
       "<Figure size 720x720 with 2 Axes>"
      ]
     },
     "metadata": {
      "needs_background": "light"
     },
     "output_type": "display_data"
    }
   ],
   "source": [
    "cm2 = confusion_matrix(test_label_names, lr_predictions, labels=label_map_df['Label Name'].values)\n",
    "plt.figure(figsize=(10,10))\n",
    "sns.heatmap(cm2, annot=True, fmt='d')"
   ]
  },
  {
   "cell_type": "markdown",
   "metadata": {},
   "source": [
    "# Linier SVM"
   ]
  },
  {
   "cell_type": "code",
   "execution_count": 11,
   "metadata": {},
   "outputs": [
    {
     "name": "stderr",
     "output_type": "stream",
     "text": [
      "C:\\Users\\Thalut\\anaconda3\\lib\\site-packages\\sklearn\\svm\\_base.py:947: ConvergenceWarning: Liblinear failed to converge, increase the number of iterations.\n",
      "  \"the number of iterations.\", ConvergenceWarning)\n",
      "C:\\Users\\Thalut\\anaconda3\\lib\\site-packages\\sklearn\\svm\\_base.py:947: ConvergenceWarning: Liblinear failed to converge, increase the number of iterations.\n",
      "  \"the number of iterations.\", ConvergenceWarning)\n"
     ]
    },
    {
     "name": "stdout",
     "output_type": "stream",
     "text": [
      "Train Score (5-fold): [0.96641791 0.96716418 0.95970149 0.97835821 0.97238806]\n",
      "Average Train Score : 0.9688059701492537\n",
      "Test Accuracy: 0.9724242424242424\n"
     ]
    }
   ],
   "source": [
    "from sklearn.svm import LinearSVC\n",
    "\n",
    "svm = LinearSVC(penalty='l2', C=1, random_state=42)\n",
    "svm.fit(cv_train_features, train_label_names)\n",
    "svm_bow_cv_scores = cross_val_score(svm, cv_train_features, train_label_names, cv=5)\n",
    "svm_bow_cv_mean_score = np.mean(svm_bow_cv_scores)\n",
    "print('Train Score (5-fold):', svm_bow_cv_scores)\n",
    "print('Average Train Score :', svm_bow_cv_mean_score)\n",
    "svm_bow_test_score = svm.score(cv_test_features, test_label_names)\n",
    "print('Test Accuracy:', svm_bow_test_score)"
   ]
  },
  {
   "cell_type": "code",
   "execution_count": 43,
   "metadata": {},
   "outputs": [
    {
     "name": "stdout",
     "output_type": "stream",
     "text": [
      "Training time:  0.258s\n"
     ]
    },
    {
     "name": "stderr",
     "output_type": "stream",
     "text": [
      "C:\\Users\\Thalut\\anaconda3\\lib\\site-packages\\sklearn\\svm\\_base.py:947: ConvergenceWarning: Liblinear failed to converge, increase the number of iterations.\n",
      "  \"the number of iterations.\", ConvergenceWarning)\n"
     ]
    }
   ],
   "source": [
    "svm = LinearSVC(penalty='l2', C=1, random_state=42)\n",
    "start = time.time()\n",
    "svm.fit(cv_train_features, train_label_names)\n",
    "stop = time.time()\n",
    "timesvm = str(round(stop-start,3)) + 's'\n",
    "print('Training time: ', timesvm)"
   ]
  },
  {
   "cell_type": "code",
   "execution_count": 25,
   "metadata": {},
   "outputs": [
    {
     "name": "stdout",
     "output_type": "stream",
     "text": [
      "Accuracy: 0.9724\n",
      "Precision: 0.9725\n",
      "Recall: 0.9724\n",
      "F1 Score: 0.9724\n",
      "              precision    recall  f1-score   support\n",
      "\n",
      "     stomach       0.98      0.93      0.95       351\n",
      "     thyroid       0.99      1.00      0.99       353\n",
      "    prostate       0.98      0.99      0.99       332\n",
      "     bladder       0.99      0.98      0.98       307\n",
      "  oesophagus       0.96      0.96      0.96       319\n",
      "cervix_uteri       0.95      0.96      0.96       320\n",
      "  colorectal       0.97      0.95      0.96       315\n",
      "      breast       0.98      0.99      0.99       335\n",
      "       liver       0.94      0.97      0.95       323\n",
      "        lung       0.99      0.99      0.99       345\n",
      "\n",
      "    accuracy                           0.97      3300\n",
      "   macro avg       0.97      0.97      0.97      3300\n",
      "weighted avg       0.97      0.97      0.97      3300\n",
      "\n"
     ]
    }
   ],
   "source": [
    "svm_predictions = svm.predict(cv_test_features)\n",
    "unique_classes = list(set(test_label_names))\n",
    "meu.get_metrics(true_labels=test_label_names, predicted_labels=svm_predictions)\n",
    "meu.display_classification_report(true_labels=test_label_names, predicted_labels=svm_predictions, classes=unique_classes)"
   ]
  },
  {
   "cell_type": "code",
   "execution_count": 31,
   "metadata": {},
   "outputs": [
    {
     "data": {
      "text/plain": [
       "<matplotlib.axes._subplots.AxesSubplot at 0x20a7317fb08>"
      ]
     },
     "execution_count": 31,
     "metadata": {},
     "output_type": "execute_result"
    },
    {
     "data": {
      "image/png": "[encoded data removed]",
      "text/plain": [
       "<Figure size 720x720 with 2 Axes>"
      ]
     },
     "metadata": {
      "needs_background": "light"
     },
     "output_type": "display_data"
    }
   ],
   "source": [
    "cm3 = confusion_matrix(test_label_names, svm_predictions, labels=label_map_df['Label Name'].values)\n",
    "plt.figure(figsize=(10,10))\n",
    "sns.heatmap(cm3, annot=True, fmt='d')"
   ]
  },
  {
   "cell_type": "markdown",
   "metadata": {},
   "source": [
    "# Linier SVM(SGD)"
   ]
  },
  {
   "cell_type": "code",
   "execution_count": 12,
   "metadata": {},
   "outputs": [
    {
     "name": "stderr",
     "output_type": "stream",
     "text": [
      "C:\\Users\\Thalut\\anaconda3\\lib\\site-packages\\sklearn\\linear_model\\_stochastic_gradient.py:557: ConvergenceWarning: Maximum number of iteration reached before convergence. Consider increasing max_iter to improve the fit.\n",
      "  ConvergenceWarning)\n",
      "C:\\Users\\Thalut\\anaconda3\\lib\\site-packages\\sklearn\\linear_model\\_stochastic_gradient.py:557: ConvergenceWarning: Maximum number of iteration reached before convergence. Consider increasing max_iter to improve the fit.\n",
      "  ConvergenceWarning)\n"
     ]
    },
    {
     "name": "stdout",
     "output_type": "stream",
     "text": [
      "Train Score (5-fold): [0.96940299 0.96567164 0.96567164 0.97313433 0.97089552]\n",
      "Average Train Score : 0.968955223880597\n",
      "Test Accuracy: 0.9696969696969697\n"
     ]
    }
   ],
   "source": [
    "from sklearn.linear_model import SGDClassifier\n",
    "\n",
    "svm_sgd = SGDClassifier(loss='hinge', penalty='l2', max_iter=5, random_state=42)\n",
    "svm_sgd.fit(cv_train_features, train_label_names)\n",
    "svmsgd_bow_cv_scores = cross_val_score(svm_sgd, cv_train_features, train_label_names, cv=5)\n",
    "svmsgd_bow_cv_mean_score = np.mean(svmsgd_bow_cv_scores)\n",
    "print('Train Score (5-fold):', svmsgd_bow_cv_scores)\n",
    "print('Average Train Score :', svmsgd_bow_cv_mean_score)\n",
    "svmsgd_bow_test_score = svm_sgd.score(cv_test_features, test_label_names)\n",
    "print('Test Accuracy:', svmsgd_bow_test_score)"
   ]
  },
  {
   "cell_type": "code",
   "execution_count": 44,
   "metadata": {},
   "outputs": [
    {
     "name": "stdout",
     "output_type": "stream",
     "text": [
      "Training time:  0.11s\n"
     ]
    },
    {
     "name": "stderr",
     "output_type": "stream",
     "text": [
      "C:\\Users\\Thalut\\anaconda3\\lib\\site-packages\\sklearn\\linear_model\\_stochastic_gradient.py:557: ConvergenceWarning: Maximum number of iteration reached before convergence. Consider increasing max_iter to improve the fit.\n",
      "  ConvergenceWarning)\n"
     ]
    }
   ],
   "source": [
    "svm_sgd = SGDClassifier(loss='hinge', penalty='l2', max_iter=5, random_state=42)\n",
    "start = time.time()\n",
    "svm_sgd.fit(cv_train_features, train_label_names)\n",
    "stop = time.time()\n",
    "timesvm_sgd = str(round(stop-start,3)) + 's'\n",
    "print('Training time: ', timesvm_sgd)"
   ]
  },
  {
   "cell_type": "code",
   "execution_count": 26,
   "metadata": {},
   "outputs": [
    {
     "name": "stdout",
     "output_type": "stream",
     "text": [
      "Accuracy: 0.9697\n",
      "Precision: 0.9698\n",
      "Recall: 0.9697\n",
      "F1 Score: 0.9696\n",
      "              precision    recall  f1-score   support\n",
      "\n",
      "     stomach       0.98      0.91      0.94       351\n",
      "     thyroid       0.99      1.00      0.99       353\n",
      "    prostate       0.98      0.99      0.99       332\n",
      "     bladder       0.96      0.98      0.97       307\n",
      "  oesophagus       0.94      0.95      0.95       319\n",
      "cervix_uteri       0.97      0.97      0.97       320\n",
      "  colorectal       0.94      0.97      0.95       315\n",
      "      breast       0.99      0.99      0.99       335\n",
      "       liver       0.96      0.95      0.95       323\n",
      "        lung       0.99      0.99      0.99       345\n",
      "\n",
      "    accuracy                           0.97      3300\n",
      "   macro avg       0.97      0.97      0.97      3300\n",
      "weighted avg       0.97      0.97      0.97      3300\n",
      "\n"
     ]
    }
   ],
   "source": [
    "svm_sgd_predictions = svm_sgd.predict(cv_test_features)\n",
    "unique_classes = list(set(test_label_names))\n",
    "meu.get_metrics(true_labels=test_label_names, predicted_labels=svm_sgd_predictions)\n",
    "meu.display_classification_report(true_labels=test_label_names, predicted_labels=svm_sgd_predictions, classes=unique_classes)"
   ]
  },
  {
   "cell_type": "code",
   "execution_count": 32,
   "metadata": {},
   "outputs": [
    {
     "data": {
      "text/plain": [
       "<matplotlib.axes._subplots.AxesSubplot at 0x20a73a4f708>"
      ]
     },
     "execution_count": 32,
     "metadata": {},
     "output_type": "execute_result"
    },
    {
     "data": {
      "image/png": "[encoded data removed]",
      "text/plain": [
       "<Figure size 720x720 with 2 Axes>"
      ]
     },
     "metadata": {
      "needs_background": "light"
     },
     "output_type": "display_data"
    }
   ],
   "source": [
    "cm4 = confusion_matrix(test_label_names, svm_sgd_predictions, labels=label_map_df['Label Name'].values)\n",
    "plt.figure(figsize=(10,10))\n",
    "sns.heatmap(cm4, annot=True, fmt='d')"
   ]
  },
  {
   "cell_type": "markdown",
   "metadata": {},
   "source": [
    "# Random Forest"
   ]
  },
  {
   "cell_type": "code",
   "execution_count": 13,
   "metadata": {},
   "outputs": [
    {
     "name": "stdout",
     "output_type": "stream",
     "text": [
      "Train Score (5-fold): [0.85447761 0.89029851 0.89850746 0.89552239 0.9119403 ]\n",
      "Average Train Score : 0.8901492537313433\n",
      "Test Accuracy: 0.8915151515151515\n"
     ]
    }
   ],
   "source": [
    "from sklearn.ensemble import RandomForestClassifier\n",
    "\n",
    "rfc = RandomForestClassifier(n_estimators=10, random_state=42)\n",
    "rfc.fit(cv_train_features, train_label_names)\n",
    "rfc_bow_cv_scores = cross_val_score(rfc, cv_train_features, train_label_names, cv=5)\n",
    "rfc_bow_cv_mean_score = np.mean(rfc_bow_cv_scores)\n",
    "print('Train Score (5-fold):', rfc_bow_cv_scores)\n",
    "print('Average Train Score :', rfc_bow_cv_mean_score)\n",
    "rfc_bow_test_score = rfc.score(cv_test_features, test_label_names)\n",
    "print('Test Accuracy:', rfc_bow_test_score)"
   ]
  },
  {
   "cell_type": "code",
   "execution_count": 46,
   "metadata": {},
   "outputs": [
    {
     "name": "stdout",
     "output_type": "stream",
     "text": [
      "Training time:  1.327s\n"
     ]
    }
   ],
   "source": [
    "rfc = RandomForestClassifier(n_estimators=10, random_state=42)\n",
    "start = time.time()\n",
    "rfc.fit(cv_train_features, train_label_names)\n",
    "stop = time.time()\n",
    "timerfc = str(round(stop-start,3)) + 's'\n",
    "print('Training time: ', timerfc)"
   ]
  },
  {
   "cell_type": "code",
   "execution_count": 27,
   "metadata": {},
   "outputs": [
    {
     "name": "stdout",
     "output_type": "stream",
     "text": [
      "Accuracy: 0.8915\n",
      "Precision: 0.8958\n",
      "Recall: 0.8915\n",
      "F1 Score: 0.892\n",
      "              precision    recall  f1-score   support\n",
      "\n",
      "     stomach       0.94      0.84      0.89       351\n",
      "     thyroid       0.97      0.86      0.91       353\n",
      "    prostate       0.95      0.94      0.95       332\n",
      "     bladder       0.80      0.92      0.86       307\n",
      "  oesophagus       0.92      0.87      0.90       319\n",
      "cervix_uteri       0.89      0.92      0.90       320\n",
      "  colorectal       0.83      0.93      0.88       315\n",
      "      breast       0.85      0.93      0.89       335\n",
      "       liver       0.84      0.85      0.85       323\n",
      "        lung       0.93      0.86      0.89       345\n",
      "\n",
      "    accuracy                           0.89      3300\n",
      "   macro avg       0.89      0.89      0.89      3300\n",
      "weighted avg       0.90      0.89      0.89      3300\n",
      "\n"
     ]
    }
   ],
   "source": [
    "rfc_predictions = rfc.predict(cv_test_features)\n",
    "unique_classes = list(set(test_label_names))\n",
    "meu.get_metrics(true_labels=test_label_names, predicted_labels=rfc_predictions)\n",
    "meu.display_classification_report(true_labels=test_label_names, predicted_labels=rfc_predictions, classes=unique_classes)"
   ]
  },
  {
   "cell_type": "code",
   "execution_count": 33,
   "metadata": {},
   "outputs": [
    {
     "data": {
      "text/plain": [
       "<matplotlib.axes._subplots.AxesSubplot at 0x20a7377cdc8>"
      ]
     },
     "execution_count": 33,
     "metadata": {},
     "output_type": "execute_result"
    },
    {
     "data": {
      "image/png": "[encoded data removed]",
      "text/plain": [
       "<Figure size 720x720 with 2 Axes>"
      ]
     },
     "metadata": {
      "needs_background": "light"
     },
     "output_type": "display_data"
    }
   ],
   "source": [
    "cm5 = confusion_matrix(test_label_names, rfc_predictions, labels=label_map_df['Label Name'].values)\n",
    "plt.figure(figsize=(10,10))\n",
    "sns.heatmap(cm5, annot=True, fmt='d')"
   ]
  },
  {
   "cell_type": "markdown",
   "metadata": {},
   "source": [
    "# Gradient Boosting Machine"
   ]
  },
  {
   "cell_type": "code",
   "execution_count": 14,
   "metadata": {},
   "outputs": [
    {
     "name": "stdout",
     "output_type": "stream",
     "text": [
      "Train Score (5-fold): [0.97164179 0.96044776 0.96567164 0.97686567 0.96567164]\n",
      "Average Train Score : 0.9680597014925374\n",
      "Test Accuracy: 0.9636363636363636\n"
     ]
    }
   ],
   "source": [
    "from sklearn.ensemble import GradientBoostingClassifier\n",
    "\n",
    "gbc = GradientBoostingClassifier(n_estimators=10, random_state=42)\n",
    "gbc.fit(cv_train_features, train_label_names)\n",
    "gbc_bow_cv_scores = cross_val_score(gbc, cv_train_features, train_label_names, cv=5)\n",
    "gbc_bow_cv_mean_score = np.mean(gbc_bow_cv_scores)\n",
    "print('Train Score (5-fold):', gbc_bow_cv_scores)\n",
    "print('Average Train Score :', gbc_bow_cv_mean_score)\n",
    "gbc_bow_test_score = gbc.score(cv_test_features, test_label_names)\n",
    "print('Test Accuracy:', gbc_bow_test_score)"
   ]
  },
  {
   "cell_type": "code",
   "execution_count": 47,
   "metadata": {},
   "outputs": [
    {
     "name": "stdout",
     "output_type": "stream",
     "text": [
      "Training time:  5.227s\n"
     ]
    }
   ],
   "source": [
    "gbc = GradientBoostingClassifier(n_estimators=10, random_state=42)\n",
    "start = time.time()\n",
    "gbc.fit(cv_train_features, train_label_names)\n",
    "stop = time.time()\n",
    "timegbc= str(round(stop-start,3)) + 's'\n",
    "print('Training time: ', timegbc)"
   ]
  },
  {
   "cell_type": "code",
   "execution_count": 28,
   "metadata": {},
   "outputs": [
    {
     "name": "stdout",
     "output_type": "stream",
     "text": [
      "Accuracy: 0.9636\n",
      "Precision: 0.965\n",
      "Recall: 0.9636\n",
      "F1 Score: 0.9638\n",
      "              precision    recall  f1-score   support\n",
      "\n",
      "     stomach       0.97      0.93      0.95       351\n",
      "     thyroid       0.99      0.99      0.99       353\n",
      "    prostate       0.98      1.00      0.99       332\n",
      "     bladder       1.00      0.97      0.98       307\n",
      "  oesophagus       0.95      0.93      0.94       319\n",
      "cervix_uteri       0.88      1.00      0.94       320\n",
      "  colorectal       0.97      0.92      0.94       315\n",
      "      breast       1.00      0.98      0.99       335\n",
      "       liver       0.92      0.95      0.93       323\n",
      "        lung       0.99      0.97      0.98       345\n",
      "\n",
      "    accuracy                           0.96      3300\n",
      "   macro avg       0.96      0.96      0.96      3300\n",
      "weighted avg       0.96      0.96      0.96      3300\n",
      "\n"
     ]
    }
   ],
   "source": [
    "gbc_predictions = gbc.predict(cv_test_features)\n",
    "unique_classes = list(set(test_label_names))\n",
    "meu.get_metrics(true_labels=test_label_names, predicted_labels=gbc_predictions)\n",
    "meu.display_classification_report(true_labels=test_label_names, predicted_labels=gbc_predictions, classes=unique_classes)"
   ]
  },
  {
   "cell_type": "code",
   "execution_count": 34,
   "metadata": {},
   "outputs": [
    {
     "data": {
      "text/plain": [
       "<matplotlib.axes._subplots.AxesSubplot at 0x20a736bf348>"
      ]
     },
     "execution_count": 34,
     "metadata": {},
     "output_type": "execute_result"
    },
    {
     "data": {
      "image/png": "[encoded data removed]",
      "text/plain": [
       "<Figure size 720x720 with 2 Axes>"
      ]
     },
     "metadata": {
      "needs_background": "light"
     },
     "output_type": "display_data"
    }
   ],
   "source": [
    "cm6 = confusion_matrix(test_label_names, gbc_predictions, labels=label_map_df['Label Name'].values)\n",
    "plt.figure(figsize=(10,10))\n",
    "sns.heatmap(cm6, annot=True, fmt='d')"
   ]
  },
  {
   "cell_type": "code",
   "execution_count": 53,
   "metadata": {},
   "outputs": [
    {
     "data": {
      "text/html": [
       "<div>\n",
       "<style scoped>\n",
       "    .dataframe tbody tr th:only-of-type {\n",
       "        vertical-align: middle;\n",
       "    }\n",
       "\n",
       "    .dataframe tbody tr th {\n",
       "        vertical-align: top;\n",
       "    }\n",
       "\n",
       "    .dataframe thead th {\n",
       "        text-align: right;\n",
       "    }\n",
       "</style>\n",
       "<table border=\"1\" class=\"dataframe\">\n",
       "  <thead>\n",
       "    <tr style=\"text-align: right;\">\n",
       "      <th></th>\n",
       "      <th>Model</th>\n",
       "      <th>Training Time(s)</th>\n",
       "      <th>Train Score</th>\n",
       "      <th>Test Score (TF)</th>\n",
       "    </tr>\n",
       "  </thead>\n",
       "  <tbody>\n",
       "    <tr>\n",
       "      <th>0</th>\n",
       "      <td>Naive Bayes</td>\n",
       "      <td>0.04s</td>\n",
       "      <td>0.911940</td>\n",
       "      <td>0.907273</td>\n",
       "    </tr>\n",
       "    <tr>\n",
       "      <th>1</th>\n",
       "      <td>Logistic Regression</td>\n",
       "      <td>6.104s</td>\n",
       "      <td>0.972836</td>\n",
       "      <td>0.974848</td>\n",
       "    </tr>\n",
       "    <tr>\n",
       "      <th>2</th>\n",
       "      <td>Linear SVM</td>\n",
       "      <td>0.258s</td>\n",
       "      <td>0.968806</td>\n",
       "      <td>0.972424</td>\n",
       "    </tr>\n",
       "    <tr>\n",
       "      <th>3</th>\n",
       "      <td>Linear SVM (SGD)</td>\n",
       "      <td>0.11s</td>\n",
       "      <td>0.968955</td>\n",
       "      <td>0.969697</td>\n",
       "    </tr>\n",
       "    <tr>\n",
       "      <th>4</th>\n",
       "      <td>Random Forest</td>\n",
       "      <td>1.327s</td>\n",
       "      <td>0.890149</td>\n",
       "      <td>0.891515</td>\n",
       "    </tr>\n",
       "    <tr>\n",
       "      <th>5</th>\n",
       "      <td>Gradient Boosted Machines</td>\n",
       "      <td>5.227s</td>\n",
       "      <td>0.968060</td>\n",
       "      <td>0.963636</td>\n",
       "    </tr>\n",
       "  </tbody>\n",
       "</table>\n",
       "</div>"
      ],
      "text/plain": [
       "                       Model Training Time(s)  Train Score  Test Score (TF)\n",
       "0                Naive Bayes            0.04s     0.911940         0.907273\n",
       "1        Logistic Regression           6.104s     0.972836         0.974848\n",
       "2                 Linear SVM           0.258s     0.968806         0.972424\n",
       "3           Linear SVM (SGD)            0.11s     0.968955         0.969697\n",
       "4              Random Forest           1.327s     0.890149         0.891515\n",
       "5  Gradient Boosted Machines           5.227s     0.968060         0.963636"
      ]
     },
     "execution_count": 53,
     "metadata": {},
     "output_type": "execute_result"
    }
   ],
   "source": [
    "finaldf = pd.DataFrame([['Naive Bayes', timemnb, mnb_bow_cv_mean_score, mnb_bow_test_score],\n",
    "              ['Logistic Regression', timelr, lr_bow_cv_mean_score, lr_bow_test_score],\n",
    "              ['Linear SVM', timesvm, svm_bow_cv_mean_score, svm_bow_test_score],\n",
    "              ['Linear SVM (SGD)',  timesvm_sgd, svmsgd_bow_cv_mean_score, svmsgd_bow_test_score],\n",
    "              ['Random Forest', timerfc, rfc_bow_cv_mean_score, rfc_bow_test_score],\n",
    "              ['Gradient Boosted Machines', timegbc, gbc_bow_cv_mean_score, gbc_bow_test_score]],\n",
    "             columns=['Model',  'Training Time(s)', 'Train Score', 'Test Score (TF)'],\n",
    "             )\n",
    "finaldf"
   ]
  },
  {
   "cell_type": "code",
   "execution_count": 54,
   "metadata": {},
   "outputs": [],
   "source": [
    "finaldf.to_csv (r'C:\\Users\\Thalut\\Exchange\\Midterm Text Mining\\Output\\save111.csv', index = False, header=True)"
   ]
  },
  {
   "cell_type": "code",
   "execution_count": 37,
   "metadata": {},
   "outputs": [
    {
     "name": "stdout",
     "output_type": "stream",
     "text": [
      "Naive Bayes\n",
      "Accuracy: 0.9073\n",
      "Precision: 0.9142\n",
      "Recall: 0.9073\n",
      "F1 Score: 0.9072\n",
      "\n",
      "Linier Regression\n",
      "Accuracy: 0.9748\n",
      "Precision: 0.9751\n",
      "Recall: 0.9748\n",
      "F1 Score: 0.9749\n",
      "\n",
      "SVM\n",
      "Accuracy: 0.9724\n",
      "Precision: 0.9725\n",
      "Recall: 0.9724\n",
      "F1 Score: 0.9724\n",
      "\n",
      "SVM(SGD)\n",
      "Accuracy: 0.9697\n",
      "Precision: 0.9698\n",
      "Recall: 0.9697\n",
      "F1 Score: 0.9696\n",
      "\n",
      "Random Forest\n",
      "Accuracy: 0.8915\n",
      "Precision: 0.8958\n",
      "Recall: 0.8915\n",
      "F1 Score: 0.892\n",
      "\n",
      "Gradient Boost Machine\n",
      "Accuracy: 0.9636\n",
      "Precision: 0.965\n",
      "Recall: 0.9636\n",
      "F1 Score: 0.9638\n",
      "\n"
     ]
    }
   ],
   "source": [
    "model_name = ['Naive Bayes', 'Linier Regression', 'SVM', 'SVM(SGD)', 'Random Forest', 'Gradient Boost Machine']\n",
    "model_var = [mnb, lr, svm, svm_sgd, rfc, gbc]\n",
    "for i in range(len(model_name)):\n",
    "    x_predictions = model_var[i].predict(cv_test_features)\n",
    "    unique_classes = list(set(test_label_names))\n",
    "    print(model_name[i])\n",
    "    meu.get_metrics(true_labels=test_label_names, predicted_labels=x_predictions)\n",
    "    print()"
   ]
  },
  {
   "cell_type": "code",
   "execution_count": null,
   "metadata": {},
   "outputs": [],
   "source": []
  }
 ],
 "metadata": {
  "kernelspec": {
   "display_name": "Python 3",
   "language": "python",
   "name": "python3"
  },
  "language_info": {
   "codemirror_mode": {
    "name": "ipython",
    "version": 3
   },
   "file_extension": ".py",
   "mimetype": "text/x-python",
   "name": "python",
   "nbconvert_exporter": "python",
   "pygments_lexer": "ipython3",
   "version": "3.7.6"
  }
 },
 "nbformat": 4,
 "nbformat_minor": 4
}
