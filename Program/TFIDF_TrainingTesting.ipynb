{
 "cells": [
  {
   "cell_type": "markdown",
   "metadata": {},
   "source": [
    "# Text Classification TF-IDF Training Testing"
   ]
  },
  {
   "cell_type": "code",
   "execution_count": 1,
   "metadata": {},
   "outputs": [],
   "source": [
    "import pandas as pd\n",
    "data_df = pd.read_csv('Top10_Cancer_1.csv', encoding='utf-8')"
   ]
  },
  {
   "cell_type": "code",
   "execution_count": 2,
   "metadata": {},
   "outputs": [
    {
     "data": {
      "text/html": [
       "<div>\n",
       "<style scoped>\n",
       "    .dataframe tbody tr th:only-of-type {\n",
       "        vertical-align: middle;\n",
       "    }\n",
       "\n",
       "    .dataframe tbody tr th {\n",
       "        vertical-align: top;\n",
       "    }\n",
       "\n",
       "    .dataframe thead th {\n",
       "        text-align: right;\n",
       "    }\n",
       "</style>\n",
       "<table border=\"1\" class=\"dataframe\">\n",
       "  <thead>\n",
       "    <tr style=\"text-align: right;\">\n",
       "      <th></th>\n",
       "      <th>Article</th>\n",
       "      <th>Clean Article</th>\n",
       "      <th>ClassID</th>\n",
       "      <th>Class</th>\n",
       "    </tr>\n",
       "  </thead>\n",
       "  <tbody>\n",
       "    <tr>\n",
       "      <th>0</th>\n",
       "      <td>Optimal adjuvant therapy in clinically N2 non-...</td>\n",
       "      <td>optimal adjuvant therapy clinically n non smal...</td>\n",
       "      <td>1</td>\n",
       "      <td>lung</td>\n",
       "    </tr>\n",
       "    <tr>\n",
       "      <th>1</th>\n",
       "      <td>Assessment of interpatient heterogeneity in tu...</td>\n",
       "      <td>assessment interpatient heterogeneity tumor ra...</td>\n",
       "      <td>1</td>\n",
       "      <td>lung</td>\n",
       "    </tr>\n",
       "    <tr>\n",
       "      <th>2</th>\n",
       "      <td>[Current problems in the combined therapy of l...</td>\n",
       "      <td>current problem combine therapy lung cancer pa...</td>\n",
       "      <td>1</td>\n",
       "      <td>lung</td>\n",
       "    </tr>\n",
       "    <tr>\n",
       "      <th>3</th>\n",
       "      <td>Effect of therapeutic irradiation on lymphocyt...</td>\n",
       "      <td>effect therapeutic irradiation lymphocyte tran...</td>\n",
       "      <td>1</td>\n",
       "      <td>lung</td>\n",
       "    </tr>\n",
       "    <tr>\n",
       "      <th>4</th>\n",
       "      <td>Use of intensive care in patients with nonrese...</td>\n",
       "      <td>use intensive care patient nonresectable lung ...</td>\n",
       "      <td>1</td>\n",
       "      <td>lung</td>\n",
       "    </tr>\n",
       "    <tr>\n",
       "      <th>5</th>\n",
       "      <td>Establishment of a drug sensitivity panel usin...</td>\n",
       "      <td>establishment drug sensitivity panel use human...</td>\n",
       "      <td>1</td>\n",
       "      <td>lung</td>\n",
       "    </tr>\n",
       "    <tr>\n",
       "      <th>6</th>\n",
       "      <td>Effect of gefitinib re-challenge to initial ge...</td>\n",
       "      <td>effect gefitinib challenge initial gefitinib r...</td>\n",
       "      <td>1</td>\n",
       "      <td>lung</td>\n",
       "    </tr>\n",
       "    <tr>\n",
       "      <th>7</th>\n",
       "      <td>[Exposed workers to lung cancer risk. An estim...</td>\n",
       "      <td>expose worker lung cancer risk estimation use ...</td>\n",
       "      <td>1</td>\n",
       "      <td>lung</td>\n",
       "    </tr>\n",
       "    <tr>\n",
       "      <th>8</th>\n",
       "      <td>Cytology nomenclature and 2015 World Health Or...</td>\n",
       "      <td>cytology nomenclature world health organizatio...</td>\n",
       "      <td>1</td>\n",
       "      <td>lung</td>\n",
       "    </tr>\n",
       "    <tr>\n",
       "      <th>9</th>\n",
       "      <td>[Repeated surgery for lung cancer] -</td>\n",
       "      <td>repeat surgery lung cancer</td>\n",
       "      <td>1</td>\n",
       "      <td>lung</td>\n",
       "    </tr>\n",
       "  </tbody>\n",
       "</table>\n",
       "</div>"
      ],
      "text/plain": [
       "                                             Article  \\\n",
       "0  Optimal adjuvant therapy in clinically N2 non-...   \n",
       "1  Assessment of interpatient heterogeneity in tu...   \n",
       "2  [Current problems in the combined therapy of l...   \n",
       "3  Effect of therapeutic irradiation on lymphocyt...   \n",
       "4  Use of intensive care in patients with nonrese...   \n",
       "5  Establishment of a drug sensitivity panel usin...   \n",
       "6  Effect of gefitinib re-challenge to initial ge...   \n",
       "7  [Exposed workers to lung cancer risk. An estim...   \n",
       "8  Cytology nomenclature and 2015 World Health Or...   \n",
       "9               [Repeated surgery for lung cancer] -   \n",
       "\n",
       "                                       Clean Article  ClassID Class  \n",
       "0  optimal adjuvant therapy clinically n non smal...        1  lung  \n",
       "1  assessment interpatient heterogeneity tumor ra...        1  lung  \n",
       "2  current problem combine therapy lung cancer pa...        1  lung  \n",
       "3  effect therapeutic irradiation lymphocyte tran...        1  lung  \n",
       "4  use intensive care patient nonresectable lung ...        1  lung  \n",
       "5  establishment drug sensitivity panel use human...        1  lung  \n",
       "6  effect gefitinib challenge initial gefitinib r...        1  lung  \n",
       "7  expose worker lung cancer risk estimation use ...        1  lung  \n",
       "8  cytology nomenclature world health organizatio...        1  lung  \n",
       "9                         repeat surgery lung cancer        1  lung  "
      ]
     },
     "execution_count": 2,
     "metadata": {},
     "output_type": "execute_result"
    }
   ],
   "source": [
    "data_df = data_df[['Article', 'Clean Article', 'ClassID', 'Class']]\n",
    "data_df.head(10)"
   ]
  },
  {
   "cell_type": "code",
   "execution_count": 3,
   "metadata": {},
   "outputs": [
    {
     "data": {
      "text/plain": [
       "((6700,), (3300,))"
      ]
     },
     "execution_count": 3,
     "metadata": {},
     "output_type": "execute_result"
    }
   ],
   "source": [
    "import numpy as np\n",
    "from sklearn.model_selection import train_test_split\n",
    "\n",
    "train_corpus, test_corpus, train_label_nums, test_label_nums, train_label_names, test_label_names =\\\n",
    "                                 train_test_split(np.array(data_df['Clean Article']), np.array(data_df['ClassID']),\n",
    "                                                       np.array(data_df['Class']), test_size=0.33, random_state=42)\n",
    "\n",
    "train_corpus.shape, test_corpus.shape"
   ]
  },
  {
   "cell_type": "code",
   "execution_count": 4,
   "metadata": {},
   "outputs": [],
   "source": [
    "from sklearn.feature_extraction.text import TfidfVectorizer\n",
    "\n",
    "# build BOW features on train articles\n",
    "tv = TfidfVectorizer(use_idf=True, min_df=0.0, max_df=1.0)\n",
    "tv_train_features = tv.fit_transform(train_corpus)"
   ]
  },
  {
   "cell_type": "code",
   "execution_count": 5,
   "metadata": {},
   "outputs": [],
   "source": [
    "# transform test articles into features\n",
    "tv_test_features = tv.transform(test_corpus)"
   ]
  },
  {
   "cell_type": "code",
   "execution_count": 6,
   "metadata": {},
   "outputs": [
    {
     "name": "stdout",
     "output_type": "stream",
     "text": [
      "TFIDF model:> Train features shape: (6700, 49221)  Test features shape: (3300, 49221)\n"
     ]
    }
   ],
   "source": [
    "print('TFIDF model:> Train features shape:', tv_train_features.shape, ' Test features shape:', tv_test_features.shape)"
   ]
  },
  {
   "cell_type": "markdown",
   "metadata": {},
   "source": [
    "# Using Naive Bayes"
   ]
  },
  {
   "cell_type": "code",
   "execution_count": 7,
   "metadata": {},
   "outputs": [
    {
     "name": "stdout",
     "output_type": "stream",
     "text": [
      "Train Score (5-fold): [0.91940299 0.92537313 0.9141791  0.93059701 0.92313433]\n",
      "Average Train Score: 0.9225373134328357\n",
      "Test Accuracy: 0.9106060606060606\n"
     ]
    }
   ],
   "source": [
    "from sklearn.naive_bayes import MultinomialNB\n",
    "from sklearn.model_selection import cross_val_score\n",
    "\n",
    "mnb = MultinomialNB(alpha=1)\n",
    "mnb.fit(tv_train_features, train_label_names)\n",
    "mnb_tfidf_cv_scores = cross_val_score(mnb, tv_train_features, train_label_names, cv=5)\n",
    "mnb_tfidf_cv_mean_score = np.mean(mnb_tfidf_cv_scores)\n",
    "print('Train Score (5-fold):', mnb_tfidf_cv_scores)\n",
    "print('Average Train Score:', mnb_tfidf_cv_mean_score)\n",
    "mnb_tfidf_test_score = mnb.score(tv_test_features, test_label_names)\n",
    "print('Test Accuracy:', mnb_tfidf_test_score)"
   ]
  },
  {
   "cell_type": "code",
   "execution_count": 8,
   "metadata": {},
   "outputs": [
    {
     "name": "stdout",
     "output_type": "stream",
     "text": [
      "Accuracy: 0.9106\n",
      "Precision: 0.9179\n",
      "Recall: 0.9106\n",
      "F1 Score: 0.9107\n",
      "              precision    recall  f1-score   support\n",
      "\n",
      "    prostate       0.93      0.98      0.95       332\n",
      "     thyroid       0.98      0.96      0.97       353\n",
      "  oesophagus       0.89      0.89      0.89       319\n",
      "        lung       0.97      0.90      0.94       345\n",
      "       liver       0.84      0.95      0.89       323\n",
      "cervix_uteri       0.97      0.87      0.92       320\n",
      "     stomach       0.99      0.75      0.85       351\n",
      "     bladder       0.85      0.96      0.90       307\n",
      "      breast       0.96      0.91      0.93       335\n",
      "  colorectal       0.78      0.94      0.85       315\n",
      "\n",
      "    accuracy                           0.91      3300\n",
      "   macro avg       0.92      0.91      0.91      3300\n",
      "weighted avg       0.92      0.91      0.91      3300\n",
      "\n"
     ]
    }
   ],
   "source": [
    "import model_evaluation_utils as meu\n",
    "mnb_predictions = mnb.predict(tv_test_features)\n",
    "unique_classes = list(set(test_label_names))\n",
    "meu.get_metrics(true_labels=test_label_names, predicted_labels=mnb_predictions)\n",
    "meu.display_classification_report(true_labels=test_label_names, \n",
    "                                  predicted_labels=mnb_predictions, classes=unique_classes)"
   ]
  },
  {
   "cell_type": "code",
   "execution_count": 9,
   "metadata": {},
   "outputs": [
    {
     "data": {
      "text/plain": [
       "{0: 'lung',\n",
       " 1: 'breast',\n",
       " 2: 'colorectal',\n",
       " 3: 'prostate',\n",
       " 4: 'stomach',\n",
       " 5: 'liver',\n",
       " 6: 'oesophagus',\n",
       " 7: 'cervix_uteri',\n",
       " 8: 'thyroid',\n",
       " 9: 'bladder'}"
      ]
     },
     "execution_count": 9,
     "metadata": {},
     "output_type": "execute_result"
    }
   ],
   "source": [
    "data_labels_map = dict(enumerate(pd.unique(data_df['Class'])))\n",
    "data_labels_map"
   ]
  },
  {
   "cell_type": "code",
   "execution_count": 10,
   "metadata": {},
   "outputs": [
    {
     "data": {
      "text/html": [
       "<div>\n",
       "<style scoped>\n",
       "    .dataframe tbody tr th:only-of-type {\n",
       "        vertical-align: middle;\n",
       "    }\n",
       "\n",
       "    .dataframe tbody tr th {\n",
       "        vertical-align: top;\n",
       "    }\n",
       "\n",
       "    .dataframe thead th {\n",
       "        text-align: right;\n",
       "    }\n",
       "</style>\n",
       "<table border=\"1\" class=\"dataframe\">\n",
       "  <thead>\n",
       "    <tr style=\"text-align: right;\">\n",
       "      <th></th>\n",
       "      <th>Label Name</th>\n",
       "      <th>Label Number</th>\n",
       "    </tr>\n",
       "  </thead>\n",
       "  <tbody>\n",
       "    <tr>\n",
       "      <th>0</th>\n",
       "      <td>lung</td>\n",
       "      <td>0</td>\n",
       "    </tr>\n",
       "    <tr>\n",
       "      <th>1</th>\n",
       "      <td>breast</td>\n",
       "      <td>1</td>\n",
       "    </tr>\n",
       "    <tr>\n",
       "      <th>2</th>\n",
       "      <td>colorectal</td>\n",
       "      <td>2</td>\n",
       "    </tr>\n",
       "    <tr>\n",
       "      <th>3</th>\n",
       "      <td>prostate</td>\n",
       "      <td>3</td>\n",
       "    </tr>\n",
       "    <tr>\n",
       "      <th>4</th>\n",
       "      <td>stomach</td>\n",
       "      <td>4</td>\n",
       "    </tr>\n",
       "    <tr>\n",
       "      <th>5</th>\n",
       "      <td>liver</td>\n",
       "      <td>5</td>\n",
       "    </tr>\n",
       "    <tr>\n",
       "      <th>6</th>\n",
       "      <td>oesophagus</td>\n",
       "      <td>6</td>\n",
       "    </tr>\n",
       "    <tr>\n",
       "      <th>7</th>\n",
       "      <td>cervix_uteri</td>\n",
       "      <td>7</td>\n",
       "    </tr>\n",
       "    <tr>\n",
       "      <th>8</th>\n",
       "      <td>thyroid</td>\n",
       "      <td>8</td>\n",
       "    </tr>\n",
       "    <tr>\n",
       "      <th>9</th>\n",
       "      <td>bladder</td>\n",
       "      <td>9</td>\n",
       "    </tr>\n",
       "  </tbody>\n",
       "</table>\n",
       "</div>"
      ],
      "text/plain": [
       "     Label Name  Label Number\n",
       "0          lung             0\n",
       "1        breast             1\n",
       "2    colorectal             2\n",
       "3      prostate             3\n",
       "4       stomach             4\n",
       "5         liver             5\n",
       "6    oesophagus             6\n",
       "7  cervix_uteri             7\n",
       "8       thyroid             8\n",
       "9       bladder             9"
      ]
     },
     "execution_count": 10,
     "metadata": {},
     "output_type": "execute_result"
    }
   ],
   "source": [
    "label_data_map = {v:k for k, v in data_labels_map.items()}\n",
    "label_map_df = pd.DataFrame(list(label_data_map.items()), columns=['Label Name', 'Label Number'])\n",
    "label_map_df"
   ]
  },
  {
   "cell_type": "code",
   "execution_count": 11,
   "metadata": {},
   "outputs": [
    {
     "data": {
      "text/plain": [
       "<AxesSubplot:>"
      ]
     },
     "execution_count": 11,
     "metadata": {},
     "output_type": "execute_result"
    },
    {
     "data": {
      "image/png": "[encoded data removed]",
      "text/plain": [
       "<Figure size 720x720 with 2 Axes>"
      ]
     },
     "metadata": {
      "needs_background": "light"
     },
     "output_type": "display_data"
    }
   ],
   "source": [
    "from sklearn.metrics import confusion_matrix\n",
    "import seaborn as sns\n",
    "import matplotlib.pyplot as plt\n",
    "\n",
    "cm1 = confusion_matrix(test_label_names, mnb_predictions, labels=label_map_df['Label Name'].values)\n",
    "plt.figure(figsize=(10,10))\n",
    "sns.heatmap(cm1, annot=True, fmt='d')"
   ]
  },
  {
   "cell_type": "markdown",
   "metadata": {},
   "source": [
    "# Using Logistic Regression"
   ]
  },
  {
   "cell_type": "code",
   "execution_count": 12,
   "metadata": {},
   "outputs": [
    {
     "name": "stdout",
     "output_type": "stream",
     "text": [
      "Train Score (5-fold): [0.97761194 0.97910448 0.96641791 0.98283582 0.98059701]\n",
      "Average Train Score: 0.9773134328358208\n",
      "Test Accuracy: 0.9754545454545455\n"
     ]
    }
   ],
   "source": [
    "from sklearn.linear_model import LogisticRegression\n",
    "\n",
    "lr = LogisticRegression(penalty='l2', max_iter=100, C=1, random_state=42)\n",
    "lr.fit(tv_train_features, train_label_names)\n",
    "lr_tfidf_cv_scores = cross_val_score(lr, tv_train_features, train_label_names, cv=5)\n",
    "lr_tfidf_cv_mean_score = np.mean(lr_tfidf_cv_scores)\n",
    "print('Train Score (5-fold):', lr_tfidf_cv_scores)\n",
    "print('Average Train Score:', lr_tfidf_cv_mean_score)\n",
    "lr_tfidf_test_score = lr.score(tv_test_features, test_label_names)\n",
    "print('Test Accuracy:', lr_tfidf_test_score)"
   ]
  },
  {
   "cell_type": "code",
   "execution_count": 13,
   "metadata": {},
   "outputs": [
    {
     "name": "stdout",
     "output_type": "stream",
     "text": [
      "Accuracy: 0.9755\n",
      "Precision: 0.9755\n",
      "Recall: 0.9755\n",
      "F1 Score: 0.9754\n",
      "              precision    recall  f1-score   support\n",
      "\n",
      "    prostate       0.98      0.99      0.99       332\n",
      "     thyroid       1.00      0.99      1.00       353\n",
      "  oesophagus       0.96      0.96      0.96       319\n",
      "        lung       0.99      0.99      0.99       345\n",
      "       liver       0.94      0.96      0.95       323\n",
      "cervix_uteri       0.97      0.97      0.97       320\n",
      "     stomach       0.97      0.95      0.96       351\n",
      "     bladder       0.98      0.97      0.98       307\n",
      "      breast       0.99      1.00      0.99       335\n",
      "  colorectal       0.97      0.97      0.97       315\n",
      "\n",
      "    accuracy                           0.98      3300\n",
      "   macro avg       0.98      0.98      0.98      3300\n",
      "weighted avg       0.98      0.98      0.98      3300\n",
      "\n"
     ]
    }
   ],
   "source": [
    "import model_evaluation_utils as meu\n",
    "lr_predictions = lr.predict(tv_test_features)\n",
    "unique_classes = list(set(test_label_names))\n",
    "meu.get_metrics(true_labels=test_label_names, predicted_labels=lr_predictions)\n",
    "meu.display_classification_report(true_labels=test_label_names, \n",
    "                                  predicted_labels=lr_predictions, classes=unique_classes)"
   ]
  },
  {
   "cell_type": "code",
   "execution_count": 14,
   "metadata": {},
   "outputs": [
    {
     "data": {
      "text/plain": [
       "<AxesSubplot:>"
      ]
     },
     "execution_count": 14,
     "metadata": {},
     "output_type": "execute_result"
    },
    {
     "data": {
      "image/png": "[encoded data removed]",
      "text/plain": [
       "<Figure size 720x720 with 2 Axes>"
      ]
     },
     "metadata": {
      "needs_background": "light"
     },
     "output_type": "display_data"
    }
   ],
   "source": [
    "from sklearn.metrics import confusion_matrix\n",
    "import seaborn as sns\n",
    "import matplotlib.pyplot as plt\n",
    "\n",
    "cm2 = confusion_matrix(test_label_names, lr_predictions, labels=label_map_df['Label Name'].values)\n",
    "plt.figure(figsize=(10,10))\n",
    "sns.heatmap(cm2, annot=True, fmt='d')"
   ]
  },
  {
   "cell_type": "markdown",
   "metadata": {},
   "source": [
    "# Using Linear SVM"
   ]
  },
  {
   "cell_type": "code",
   "execution_count": 15,
   "metadata": {},
   "outputs": [
    {
     "name": "stdout",
     "output_type": "stream",
     "text": [
      "Train Score (5-fold): [0.97910448 0.97761194 0.97014925 0.98656716 0.97835821]\n",
      "Average Train Score: 0.9783582089552239\n",
      "Test Accuracy: 0.9751515151515151\n"
     ]
    }
   ],
   "source": [
    "from sklearn.svm import LinearSVC\n",
    "\n",
    "svm = LinearSVC(penalty='l2', C=1, random_state=42)\n",
    "svm.fit(tv_train_features, train_label_names)\n",
    "svm_tfidf_cv_scores = cross_val_score(svm, tv_train_features, train_label_names, cv=5)\n",
    "svm_tfidf_cv_mean_score = np.mean(svm_tfidf_cv_scores)\n",
    "print('Train Score (5-fold):', svm_tfidf_cv_scores)\n",
    "print('Average Train Score:', svm_tfidf_cv_mean_score)\n",
    "svm_tfidf_test_score = svm.score(tv_test_features, test_label_names)\n",
    "print('Test Accuracy:', svm_tfidf_test_score)"
   ]
  },
  {
   "cell_type": "code",
   "execution_count": 16,
   "metadata": {},
   "outputs": [
    {
     "name": "stdout",
     "output_type": "stream",
     "text": [
      "Accuracy: 0.9752\n",
      "Precision: 0.9753\n",
      "Recall: 0.9752\n",
      "F1 Score: 0.9751\n",
      "              precision    recall  f1-score   support\n",
      "\n",
      "    prostate       0.98      1.00      0.99       332\n",
      "     thyroid       0.99      1.00      1.00       353\n",
      "  oesophagus       0.96      0.96      0.96       319\n",
      "        lung       0.99      0.99      0.99       345\n",
      "       liver       0.94      0.98      0.96       323\n",
      "cervix_uteri       0.97      0.95      0.96       320\n",
      "     stomach       0.97      0.94      0.96       351\n",
      "     bladder       0.99      0.97      0.98       307\n",
      "      breast       0.99      0.99      0.99       335\n",
      "  colorectal       0.97      0.97      0.97       315\n",
      "\n",
      "    accuracy                           0.98      3300\n",
      "   macro avg       0.97      0.97      0.97      3300\n",
      "weighted avg       0.98      0.98      0.98      3300\n",
      "\n"
     ]
    }
   ],
   "source": [
    "import model_evaluation_utils as meu\n",
    "svm_predictions = svm.predict(tv_test_features)\n",
    "unique_classes = list(set(test_label_names))\n",
    "meu.get_metrics(true_labels=test_label_names, predicted_labels=svm_predictions)\n",
    "meu.display_classification_report(true_labels=test_label_names, \n",
    "                                  predicted_labels=svm_predictions, classes=unique_classes)"
   ]
  },
  {
   "cell_type": "code",
   "execution_count": 17,
   "metadata": {},
   "outputs": [
    {
     "data": {
      "text/plain": [
       "<AxesSubplot:>"
      ]
     },
     "execution_count": 17,
     "metadata": {},
     "output_type": "execute_result"
    },
    {
     "data": {
      "image/png": "[encoded data removed]",
      "text/plain": [
       "<Figure size 720x720 with 2 Axes>"
      ]
     },
     "metadata": {
      "needs_background": "light"
     },
     "output_type": "display_data"
    }
   ],
   "source": [
    "from sklearn.metrics import confusion_matrix\n",
    "import seaborn as sns\n",
    "import matplotlib.pyplot as plt\n",
    "\n",
    "cm3 = confusion_matrix(test_label_names, svm_predictions, labels=label_map_df['Label Name'].values)\n",
    "plt.figure(figsize=(10,10))\n",
    "sns.heatmap(cm3, annot=True, fmt='d')"
   ]
  },
  {
   "cell_type": "markdown",
   "metadata": {},
   "source": [
    "# Using Linear SVM (SGD)"
   ]
  },
  {
   "cell_type": "code",
   "execution_count": 18,
   "metadata": {},
   "outputs": [
    {
     "name": "stderr",
     "output_type": "stream",
     "text": [
      "C:\\Users\\Reza\\anaconda3\\envs\\Text Mining\\lib\\site-packages\\sklearn\\linear_model\\_stochastic_gradient.py:570: ConvergenceWarning: Maximum number of iteration reached before convergence. Consider increasing max_iter to improve the fit.\n",
      "  warnings.warn(\"Maximum number of iteration reached before \"\n",
      "C:\\Users\\Reza\\anaconda3\\envs\\Text Mining\\lib\\site-packages\\sklearn\\linear_model\\_stochastic_gradient.py:570: ConvergenceWarning: Maximum number of iteration reached before convergence. Consider increasing max_iter to improve the fit.\n",
      "  warnings.warn(\"Maximum number of iteration reached before \"\n"
     ]
    },
    {
     "name": "stdout",
     "output_type": "stream",
     "text": [
      "Train Score (5-fold): [0.97985075 0.97537313 0.96865672 0.98507463 0.97835821]\n",
      "Average Train Score: 0.9774626865671643\n",
      "Test Accuracy: 0.9736363636363636\n"
     ]
    }
   ],
   "source": [
    "from sklearn.linear_model import SGDClassifier\n",
    "\n",
    "svm_sgd = SGDClassifier(loss='hinge', penalty='l2', max_iter=5, random_state=42)\n",
    "svm_sgd.fit(tv_train_features, train_label_names)\n",
    "svmsgd_tfidf_cv_scores = cross_val_score(svm_sgd, tv_train_features, train_label_names, cv=5)\n",
    "svmsgd_tfidf_cv_mean_score = np.mean(svmsgd_tfidf_cv_scores)\n",
    "print('Train Score (5-fold):', svmsgd_tfidf_cv_scores)\n",
    "print('Average Train Score:', svmsgd_tfidf_cv_mean_score)\n",
    "svmsgd_tfidf_test_score = svm_sgd.score(tv_test_features, test_label_names)\n",
    "print('Test Accuracy:', svmsgd_tfidf_test_score)"
   ]
  },
  {
   "cell_type": "code",
   "execution_count": 19,
   "metadata": {},
   "outputs": [
    {
     "name": "stdout",
     "output_type": "stream",
     "text": [
      "Accuracy: 0.9736\n",
      "Precision: 0.9738\n",
      "Recall: 0.9736\n",
      "F1 Score: 0.9736\n",
      "              precision    recall  f1-score   support\n",
      "\n",
      "    prostate       0.98      1.00      0.99       332\n",
      "     thyroid       0.99      1.00      1.00       353\n",
      "  oesophagus       0.94      0.96      0.95       319\n",
      "        lung       0.99      1.00      1.00       345\n",
      "       liver       0.94      0.97      0.96       323\n",
      "cervix_uteri       0.98      0.95      0.96       320\n",
      "     stomach       0.98      0.93      0.96       351\n",
      "     bladder       0.99      0.97      0.98       307\n",
      "      breast       0.98      0.99      0.99       335\n",
      "  colorectal       0.96      0.96      0.96       315\n",
      "\n",
      "    accuracy                           0.97      3300\n",
      "   macro avg       0.97      0.97      0.97      3300\n",
      "weighted avg       0.97      0.97      0.97      3300\n",
      "\n"
     ]
    }
   ],
   "source": [
    "import model_evaluation_utils as meu\n",
    "svm_sgd_predictions = svm_sgd.predict(tv_test_features)\n",
    "unique_classes = list(set(test_label_names))\n",
    "meu.get_metrics(true_labels=test_label_names, predicted_labels=svm_sgd_predictions)\n",
    "meu.display_classification_report(true_labels=test_label_names, \n",
    "                                  predicted_labels=svm_sgd_predictions, classes=unique_classes)"
   ]
  },
  {
   "cell_type": "code",
   "execution_count": 20,
   "metadata": {},
   "outputs": [
    {
     "data": {
      "text/plain": [
       "<AxesSubplot:>"
      ]
     },
     "execution_count": 20,
     "metadata": {},
     "output_type": "execute_result"
    },
    {
     "data": {
      "image/png": "[encoded data removed]",
      "text/plain": [
       "<Figure size 720x720 with 2 Axes>"
      ]
     },
     "metadata": {
      "needs_background": "light"
     },
     "output_type": "display_data"
    }
   ],
   "source": [
    "from sklearn.metrics import confusion_matrix\n",
    "import seaborn as sns\n",
    "import matplotlib.pyplot as plt\n",
    "\n",
    "cm1 = confusion_matrix(test_label_names, svm_sgd_predictions, labels=label_map_df['Label Name'].values)\n",
    "plt.figure(figsize=(10,10))\n",
    "sns.heatmap(cm1, annot=True, fmt='d')"
   ]
  },
  {
   "cell_type": "markdown",
   "metadata": {},
   "source": [
    "# Using Random Forest"
   ]
  },
  {
   "cell_type": "code",
   "execution_count": 21,
   "metadata": {},
   "outputs": [
    {
     "name": "stdout",
     "output_type": "stream",
     "text": [
      "Train Score (5-fold): [0.88507463 0.88283582 0.90447761 0.89477612 0.90746269]\n",
      "Average Train Score: 0.8949253731343283\n",
      "Test Accuracy: 0.9103030303030303\n"
     ]
    }
   ],
   "source": [
    "from sklearn.ensemble import RandomForestClassifier\n",
    "\n",
    "rfc = RandomForestClassifier(n_estimators=10, random_state=42)\n",
    "rfc.fit(tv_train_features, train_label_names)\n",
    "rfc_tfidf_cv_scores = cross_val_score(rfc, tv_train_features, train_label_names, cv=5)\n",
    "rfc_tfidf_cv_mean_score = np.mean(rfc_tfidf_cv_scores)\n",
    "print('Train Score (5-fold):', rfc_tfidf_cv_scores)\n",
    "print('Average Train Score:', rfc_tfidf_cv_mean_score)\n",
    "rfc_tfidf_test_score = rfc.score(tv_test_features, test_label_names)\n",
    "print('Test Accuracy:', rfc_tfidf_test_score)"
   ]
  },
  {
   "cell_type": "code",
   "execution_count": 22,
   "metadata": {},
   "outputs": [
    {
     "name": "stdout",
     "output_type": "stream",
     "text": [
      "Accuracy: 0.9103\n",
      "Precision: 0.9122\n",
      "Recall: 0.9103\n",
      "F1 Score: 0.9105\n",
      "              precision    recall  f1-score   support\n",
      "\n",
      "    prostate       0.94      0.93      0.94       332\n",
      "     thyroid       0.96      0.92      0.94       353\n",
      "  oesophagus       0.93      0.88      0.90       319\n",
      "        lung       0.95      0.90      0.93       345\n",
      "       liver       0.83      0.89      0.86       323\n",
      "cervix_uteri       0.91      0.89      0.90       320\n",
      "     stomach       0.93      0.86      0.89       351\n",
      "     bladder       0.86      0.94      0.90       307\n",
      "      breast       0.93      0.98      0.95       335\n",
      "  colorectal       0.86      0.91      0.89       315\n",
      "\n",
      "    accuracy                           0.91      3300\n",
      "   macro avg       0.91      0.91      0.91      3300\n",
      "weighted avg       0.91      0.91      0.91      3300\n",
      "\n"
     ]
    }
   ],
   "source": [
    "import model_evaluation_utils as meu\n",
    "rfc_predictions = rfc.predict(tv_test_features)\n",
    "unique_classes = list(set(test_label_names))\n",
    "meu.get_metrics(true_labels=test_label_names, predicted_labels=rfc_predictions)\n",
    "meu.display_classification_report(true_labels=test_label_names, \n",
    "                                  predicted_labels=rfc_predictions, classes=unique_classes)"
   ]
  },
  {
   "cell_type": "code",
   "execution_count": 23,
   "metadata": {},
   "outputs": [
    {
     "data": {
      "text/plain": [
       "<AxesSubplot:>"
      ]
     },
     "execution_count": 23,
     "metadata": {},
     "output_type": "execute_result"
    },
    {
     "data": {
      "image/png": "[encoded data removed]",
      "text/plain": [
       "<Figure size 720x720 with 2 Axes>"
      ]
     },
     "metadata": {
      "needs_background": "light"
     },
     "output_type": "display_data"
    }
   ],
   "source": [
    "from sklearn.metrics import confusion_matrix\n",
    "import seaborn as sns\n",
    "import matplotlib.pyplot as plt\n",
    "\n",
    "cm1 = confusion_matrix(test_label_names, rfc_predictions, labels=label_map_df['Label Name'].values)\n",
    "plt.figure(figsize=(10,10))\n",
    "sns.heatmap(cm1, annot=True, fmt='d')"
   ]
  },
  {
   "cell_type": "markdown",
   "metadata": {},
   "source": [
    "# Using Gradient Boosted Machines"
   ]
  },
  {
   "cell_type": "code",
   "execution_count": 24,
   "metadata": {},
   "outputs": [
    {
     "name": "stdout",
     "output_type": "stream",
     "text": [
      "Train Score (5-fold): [0.97089552 0.9619403  0.96492537 0.97537313 0.96567164]\n",
      "Average Train Score: 0.9677611940298508\n",
      "Test Accuracy: 0.9672727272727273\n"
     ]
    }
   ],
   "source": [
    "from sklearn.ensemble import GradientBoostingClassifier\n",
    "\n",
    "gbc = GradientBoostingClassifier(n_estimators=10, random_state=42)\n",
    "gbc.fit(tv_train_features, train_label_names)\n",
    "gbc_tfidf_cv_scores = cross_val_score(gbc, tv_train_features, train_label_names, cv=5)\n",
    "gbc_tfidf_cv_mean_score = np.mean(gbc_tfidf_cv_scores)\n",
    "print('Train Score (5-fold):', gbc_tfidf_cv_scores)\n",
    "print('Average Train Score:', gbc_tfidf_cv_mean_score)\n",
    "gbc_tfidf_test_score = gbc.score(tv_test_features, test_label_names)\n",
    "print('Test Accuracy:', gbc_tfidf_test_score)"
   ]
  },
  {
   "cell_type": "code",
   "execution_count": 25,
   "metadata": {},
   "outputs": [
    {
     "name": "stdout",
     "output_type": "stream",
     "text": [
      "Accuracy: 0.9673\n",
      "Precision: 0.9688\n",
      "Recall: 0.9673\n",
      "F1 Score: 0.9675\n",
      "              precision    recall  f1-score   support\n",
      "\n",
      "    prostate       0.97      1.00      0.99       332\n",
      "     thyroid       0.99      1.00      0.99       353\n",
      "  oesophagus       0.96      0.92      0.94       319\n",
      "        lung       1.00      0.99      0.99       345\n",
      "       liver       0.94      0.95      0.94       323\n",
      "cervix_uteri       0.87      0.99      0.93       320\n",
      "     stomach       0.98      0.94      0.96       351\n",
      "     bladder       0.99      0.96      0.98       307\n",
      "      breast       1.00      0.99      0.99       335\n",
      "  colorectal       0.98      0.93      0.95       315\n",
      "\n",
      "    accuracy                           0.97      3300\n",
      "   macro avg       0.97      0.97      0.97      3300\n",
      "weighted avg       0.97      0.97      0.97      3300\n",
      "\n"
     ]
    }
   ],
   "source": [
    "import model_evaluation_utils as meu\n",
    "gbc_predictions = gbc.predict(tv_test_features)\n",
    "unique_classes = list(set(test_label_names))\n",
    "meu.get_metrics(true_labels=test_label_names, predicted_labels=gbc_predictions)\n",
    "meu.display_classification_report(true_labels=test_label_names, \n",
    "                                  predicted_labels=gbc_predictions, classes=unique_classes)"
   ]
  },
  {
   "cell_type": "code",
   "execution_count": 26,
   "metadata": {},
   "outputs": [
    {
     "data": {
      "text/plain": [
       "<AxesSubplot:>"
      ]
     },
     "execution_count": 26,
     "metadata": {},
     "output_type": "execute_result"
    },
    {
     "data": {
      "image/png": "[encoded data removed]",
      "text/plain": [
       "<Figure size 720x720 with 2 Axes>"
      ]
     },
     "metadata": {
      "needs_background": "light"
     },
     "output_type": "display_data"
    }
   ],
   "source": [
    "from sklearn.metrics import confusion_matrix\n",
    "import seaborn as sns\n",
    "import matplotlib.pyplot as plt\n",
    "\n",
    "cm1 = confusion_matrix(test_label_names, gbc_predictions, labels=label_map_df['Label Name'].values)\n",
    "plt.figure(figsize=(10,10))\n",
    "sns.heatmap(cm1, annot=True, fmt='d')"
   ]
  },
  {
   "cell_type": "markdown",
   "metadata": {},
   "source": [
    "# TF-IDF Classification Model Comparison"
   ]
  },
  {
   "cell_type": "code",
   "execution_count": 27,
   "metadata": {},
   "outputs": [
    {
     "name": "stdout",
     "output_type": "stream",
     "text": [
      "Naive Bayes\n",
      "Accuracy: 0.9106\n",
      "Precision: 0.9179\n",
      "Recall: 0.9106\n",
      "F1 Score: 0.9107\n",
      "\n",
      "Linier Regression\n",
      "Accuracy: 0.9755\n",
      "Precision: 0.9755\n",
      "Recall: 0.9755\n",
      "F1 Score: 0.9754\n",
      "\n",
      "SVM\n",
      "Accuracy: 0.9752\n",
      "Precision: 0.9753\n",
      "Recall: 0.9752\n",
      "F1 Score: 0.9751\n",
      "\n",
      "SVM(SGD)\n",
      "Accuracy: 0.9736\n",
      "Precision: 0.9738\n",
      "Recall: 0.9736\n",
      "F1 Score: 0.9736\n",
      "\n",
      "Random Forest\n",
      "Accuracy: 0.9103\n",
      "Precision: 0.9122\n",
      "Recall: 0.9103\n",
      "F1 Score: 0.9105\n",
      "\n",
      "Gradient Boost Machine\n",
      "Accuracy: 0.9673\n",
      "Precision: 0.9688\n",
      "Recall: 0.9673\n",
      "F1 Score: 0.9675\n",
      "\n"
     ]
    }
   ],
   "source": [
    "model_name = ['Naive Bayes', 'Linier Regression', 'SVM', 'SVM(SGD)', 'Random Forest', 'Gradient Boost Machine']\n",
    "model_var = [mnb, lr, svm, svm_sgd, rfc, gbc]\n",
    "for i in range(len(model_name)):\n",
    "    x_predictions = model_var[i].predict(tv_test_features)\n",
    "    unique_classes = list(set(test_label_names))\n",
    "    print(model_name[i])\n",
    "    meu.get_metrics(true_labels=test_label_names, predicted_labels=x_predictions)\n",
    "    print()"
   ]
  },
  {
   "cell_type": "code",
   "execution_count": 28,
   "metadata": {},
   "outputs": [
    {
     "name": "stdout",
     "output_type": "stream",
     "text": [
      "Training time:  0.024s\n"
     ]
    }
   ],
   "source": [
    "import time\n",
    "\n",
    "mnb = MultinomialNB(alpha=1)\n",
    "start = time.time()\n",
    "mnb.fit(tv_train_features, train_label_names)\n",
    "stop = time.time()\n",
    "timemnb = str(round(stop-start,3)) + 's'\n",
    "print('Training time: ', timemnb)"
   ]
  },
  {
   "cell_type": "code",
   "execution_count": 29,
   "metadata": {},
   "outputs": [
    {
     "name": "stdout",
     "output_type": "stream",
     "text": [
      "Training time:  3.494s\n"
     ]
    }
   ],
   "source": [
    "lr = LogisticRegression(penalty='l2', max_iter=100, C=1, random_state=42)\n",
    "start = time.time()\n",
    "lr.fit(tv_train_features, train_label_names)\n",
    "stop = time.time()\n",
    "timelr = str(round(stop-start,3)) + 's'\n",
    "print('Training time: ', timelr)"
   ]
  },
  {
   "cell_type": "code",
   "execution_count": 30,
   "metadata": {},
   "outputs": [
    {
     "name": "stdout",
     "output_type": "stream",
     "text": [
      "Training time:  0.183s\n"
     ]
    }
   ],
   "source": [
    "svm = LinearSVC(penalty='l2', C=1, random_state=42)\n",
    "start = time.time()\n",
    "svm.fit(tv_train_features, train_label_names)\n",
    "stop = time.time()\n",
    "timesvm = str(round(stop-start,3)) + 's'\n",
    "print('Training time: ', timesvm)"
   ]
  },
  {
   "cell_type": "code",
   "execution_count": 31,
   "metadata": {},
   "outputs": [
    {
     "name": "stdout",
     "output_type": "stream",
     "text": [
      "Training time:  0.046s\n"
     ]
    },
    {
     "name": "stderr",
     "output_type": "stream",
     "text": [
      "C:\\Users\\Reza\\anaconda3\\envs\\Text Mining\\lib\\site-packages\\sklearn\\linear_model\\_stochastic_gradient.py:570: ConvergenceWarning: Maximum number of iteration reached before convergence. Consider increasing max_iter to improve the fit.\n",
      "  warnings.warn(\"Maximum number of iteration reached before \"\n"
     ]
    }
   ],
   "source": [
    "svm_sgd = SGDClassifier(loss='hinge', penalty='l2', max_iter=5, random_state=42)\n",
    "start = time.time()\n",
    "svm_sgd.fit(tv_train_features, train_label_names)\n",
    "stop = time.time()\n",
    "timesvm_sgd = str(round(stop-start,3)) + 's'\n",
    "print('Training time: ', timesvm_sgd)"
   ]
  },
  {
   "cell_type": "code",
   "execution_count": 32,
   "metadata": {},
   "outputs": [
    {
     "name": "stdout",
     "output_type": "stream",
     "text": [
      "Training time:  0.899s\n"
     ]
    }
   ],
   "source": [
    "rfc = RandomForestClassifier(n_estimators=10, random_state=42)\n",
    "start = time.time()\n",
    "rfc.fit(tv_train_features, train_label_names)\n",
    "stop = time.time()\n",
    "timerfc = str(round(stop-start,3)) + 's'\n",
    "print('Training time: ', timerfc)"
   ]
  },
  {
   "cell_type": "code",
   "execution_count": 33,
   "metadata": {},
   "outputs": [
    {
     "name": "stdout",
     "output_type": "stream",
     "text": [
      "Training time:  9.047s\n"
     ]
    }
   ],
   "source": [
    "gbc = GradientBoostingClassifier(n_estimators=10, random_state=42)\n",
    "start = time.time()\n",
    "gbc.fit(tv_train_features, train_label_names)\n",
    "stop = time.time()\n",
    "timegbc= str(round(stop-start,3)) + 's'\n",
    "print('Training time: ', timegbc)"
   ]
  },
  {
   "cell_type": "code",
   "execution_count": 36,
   "metadata": {},
   "outputs": [],
   "source": [
    "y = pd.DataFrame([['Naive Bayes', \n",
    "               timemnb, mnb_tfidf_cv_mean_score, mnb_tfidf_test_score],\n",
    "              ['Logistic Regression', \n",
    "               timelr, lr_tfidf_cv_mean_score, lr_tfidf_test_score],\n",
    "              ['Linear SVM', \n",
    "               timesvm, svm_tfidf_cv_mean_score, svm_tfidf_test_score],\n",
    "              ['Linear SVM (SGD)',  \n",
    "               timesvm_sgd, svmsgd_tfidf_cv_mean_score, svmsgd_tfidf_test_score],\n",
    "              ['Random Forest', \n",
    "               timerfc, rfc_tfidf_cv_mean_score, rfc_tfidf_test_score],\n",
    "              ['Gradient Boosted Machines', \n",
    "               timegbc, gbc_tfidf_cv_mean_score, gbc_tfidf_test_score]],\n",
    "             columns=['Model', 'Training Time', 'Train Score (TF-IDF)', 'Test Score (TF-IDF)'],\n",
    "             )"
   ]
  },
  {
   "cell_type": "code",
   "execution_count": 37,
   "metadata": {},
   "outputs": [
    {
     "data": {
      "text/html": [
       "<div>\n",
       "<style scoped>\n",
       "    .dataframe tbody tr th:only-of-type {\n",
       "        vertical-align: middle;\n",
       "    }\n",
       "\n",
       "    .dataframe tbody tr th {\n",
       "        vertical-align: top;\n",
       "    }\n",
       "\n",
       "    .dataframe thead th {\n",
       "        text-align: right;\n",
       "    }\n",
       "</style>\n",
       "<table border=\"1\" class=\"dataframe\">\n",
       "  <thead>\n",
       "    <tr style=\"text-align: right;\">\n",
       "      <th></th>\n",
       "      <th>Model</th>\n",
       "      <th>Training Time</th>\n",
       "      <th>Train Score (TF-IDF)</th>\n",
       "      <th>Test Score (TF-IDF)</th>\n",
       "    </tr>\n",
       "  </thead>\n",
       "  <tbody>\n",
       "    <tr>\n",
       "      <th>0</th>\n",
       "      <td>Naive Bayes</td>\n",
       "      <td>0.024s</td>\n",
       "      <td>0.922537</td>\n",
       "      <td>0.910606</td>\n",
       "    </tr>\n",
       "    <tr>\n",
       "      <th>1</th>\n",
       "      <td>Logistic Regression</td>\n",
       "      <td>3.494s</td>\n",
       "      <td>0.977313</td>\n",
       "      <td>0.975455</td>\n",
       "    </tr>\n",
       "    <tr>\n",
       "      <th>2</th>\n",
       "      <td>Linear SVM</td>\n",
       "      <td>0.183s</td>\n",
       "      <td>0.978358</td>\n",
       "      <td>0.975152</td>\n",
       "    </tr>\n",
       "    <tr>\n",
       "      <th>3</th>\n",
       "      <td>Linear SVM (SGD)</td>\n",
       "      <td>0.046s</td>\n",
       "      <td>0.977463</td>\n",
       "      <td>0.973636</td>\n",
       "    </tr>\n",
       "    <tr>\n",
       "      <th>4</th>\n",
       "      <td>Random Forest</td>\n",
       "      <td>0.899s</td>\n",
       "      <td>0.894925</td>\n",
       "      <td>0.910303</td>\n",
       "    </tr>\n",
       "    <tr>\n",
       "      <th>5</th>\n",
       "      <td>Gradient Boosted Machines</td>\n",
       "      <td>9.047s</td>\n",
       "      <td>0.967761</td>\n",
       "      <td>0.967273</td>\n",
       "    </tr>\n",
       "  </tbody>\n",
       "</table>\n",
       "</div>"
      ],
      "text/plain": [
       "                       Model Training Time  Train Score (TF-IDF)  \\\n",
       "0                Naive Bayes        0.024s              0.922537   \n",
       "1        Logistic Regression        3.494s              0.977313   \n",
       "2                 Linear SVM        0.183s              0.978358   \n",
       "3           Linear SVM (SGD)        0.046s              0.977463   \n",
       "4              Random Forest        0.899s              0.894925   \n",
       "5  Gradient Boosted Machines        9.047s              0.967761   \n",
       "\n",
       "   Test Score (TF-IDF)  \n",
       "0             0.910606  \n",
       "1             0.975455  \n",
       "2             0.975152  \n",
       "3             0.973636  \n",
       "4             0.910303  \n",
       "5             0.967273  "
      ]
     },
     "execution_count": 37,
     "metadata": {},
     "output_type": "execute_result"
    }
   ],
   "source": [
    "y"
   ]
  },
  {
   "cell_type": "code",
   "execution_count": 38,
   "metadata": {},
   "outputs": [],
   "source": [
    "y.to_csv (r'C:\\Users\\Reza\\Desktop\\save2.csv', index = False, header=True)"
   ]
  },
  {
   "cell_type": "code",
   "execution_count": null,
   "metadata": {},
   "outputs": [],
   "source": []
  }
 ],
 "metadata": {
  "kernelspec": {
   "display_name": "Python 3",
   "language": "python",
   "name": "python3"
  },
  "language_info": {
   "codemirror_mode": {
    "name": "ipython",
    "version": 3
   },
   "file_extension": ".py",
   "mimetype": "text/x-python",
   "name": "python",
   "nbconvert_exporter": "python",
   "pygments_lexer": "ipython3",
   "version": "3.8.5"
  }
 },
 "nbformat": 4,
 "nbformat_minor": 2
}
